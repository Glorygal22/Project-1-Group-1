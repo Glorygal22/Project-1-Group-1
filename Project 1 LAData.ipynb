{
 "cells": [
  {
   "cell_type": "code",
   "execution_count": 41,
   "metadata": {},
   "outputs": [],
   "source": [
    "# Dependencies and Setup\n",
    "%matplotlib inline\n",
    "import matplotlib.pyplot as plt\n",
    "import pandas as pd\n",
    "import numpy as np\n",
    "import json\n",
    "import scipy.stats as stats"
   ]
  },
  {
   "cell_type": "code",
   "execution_count": 42,
   "metadata": {},
   "outputs": [
    {
     "ename": "ModuleNotFoundError",
     "evalue": "No module named 'stats'",
     "output_type": "error",
     "traceback": [
      "\u001b[1;31m---------------------------------------------------------------------------\u001b[0m",
      "\u001b[1;31mModuleNotFoundError\u001b[0m                       Traceback (most recent call last)",
      "\u001b[1;32m<ipython-input-42-ec5aa62a3660>\u001b[0m in \u001b[0;36m<module>\u001b[1;34m\u001b[0m\n\u001b[1;32m----> 1\u001b[1;33m \u001b[1;32mfrom\u001b[0m \u001b[0mstats\u001b[0m \u001b[1;32mimport\u001b[0m \u001b[0mmean\u001b[0m\u001b[1;33m\u001b[0m\u001b[1;33m\u001b[0m\u001b[0m\n\u001b[0m",
      "\u001b[1;31mModuleNotFoundError\u001b[0m: No module named 'stats'"
     ]
    }
   ],
   "source": [
    "from stats import mean"
   ]
  },
  {
   "cell_type": "code",
   "execution_count": 3,
   "metadata": {},
   "outputs": [],
   "source": [
    "# File to load \n",
    "Los_Angeles_df = \"LA_Crime_Data.csv\""
   ]
  },
  {
   "cell_type": "code",
   "execution_count": 4,
   "metadata": {
    "scrolled": true
   },
   "outputs": [
    {
     "data": {
      "text/html": [
       "<div>\n",
       "<style scoped>\n",
       "    .dataframe tbody tr th:only-of-type {\n",
       "        vertical-align: middle;\n",
       "    }\n",
       "\n",
       "    .dataframe tbody tr th {\n",
       "        vertical-align: top;\n",
       "    }\n",
       "\n",
       "    .dataframe thead th {\n",
       "        text-align: right;\n",
       "    }\n",
       "</style>\n",
       "<table border=\"1\" class=\"dataframe\">\n",
       "  <thead>\n",
       "    <tr style=\"text-align: right;\">\n",
       "      <th></th>\n",
       "      <th>Date Occurred</th>\n",
       "      <th>LocationLat</th>\n",
       "      <th>LocationLong</th>\n",
       "    </tr>\n",
       "  </thead>\n",
       "  <tbody>\n",
       "    <tr>\n",
       "      <th>0</th>\n",
       "      <td>7/15/2018</td>\n",
       "      <td>34.0547</td>\n",
       "      <td>-118.2505</td>\n",
       "    </tr>\n",
       "    <tr>\n",
       "      <th>1</th>\n",
       "      <td>7/14/2018</td>\n",
       "      <td>34.0516</td>\n",
       "      <td>-118.2561</td>\n",
       "    </tr>\n",
       "    <tr>\n",
       "      <th>2</th>\n",
       "      <td>7/14/2018</td>\n",
       "      <td>34.0663</td>\n",
       "      <td>-118.2441</td>\n",
       "    </tr>\n",
       "    <tr>\n",
       "      <th>3</th>\n",
       "      <td>5/19/2018</td>\n",
       "      <td>34.0472</td>\n",
       "      <td>-118.2351</td>\n",
       "    </tr>\n",
       "    <tr>\n",
       "      <th>4</th>\n",
       "      <td>7/14/2018</td>\n",
       "      <td>34.0510</td>\n",
       "      <td>-118.2480</td>\n",
       "    </tr>\n",
       "  </tbody>\n",
       "</table>\n",
       "</div>"
      ],
      "text/plain": [
       "  Date Occurred  LocationLat  LocationLong\n",
       "0     7/15/2018      34.0547     -118.2505\n",
       "1     7/14/2018      34.0516     -118.2561\n",
       "2     7/14/2018      34.0663     -118.2441\n",
       "3     5/19/2018      34.0472     -118.2351\n",
       "4     7/14/2018      34.0510     -118.2480"
      ]
     },
     "execution_count": 4,
     "metadata": {},
     "output_type": "execute_result"
    }
   ],
   "source": [
    "# Read the Los Angeles city crime data\n",
    "\n",
    "Los_Angeles_df = pd.read_csv(Los_Angeles_df)\n",
    "\n",
    "# Display the data table for preview\n",
    "Los_Angeles_df.head()"
   ]
  },
  {
   "cell_type": "code",
   "execution_count": 5,
   "metadata": {},
   "outputs": [
    {
     "data": {
      "text/plain": [
       "Date Occurred     object\n",
       "LocationLat      float64\n",
       "LocationLong     float64\n",
       "dtype: object"
      ]
     },
     "execution_count": 5,
     "metadata": {},
     "output_type": "execute_result"
    }
   ],
   "source": [
    "Los_Angeles_df.dtypes"
   ]
  },
  {
   "cell_type": "code",
   "execution_count": 6,
   "metadata": {},
   "outputs": [],
   "source": [
    "Los_Angeles_df[\"Date Occurred\"]=Los_Angeles_df[\"Date Occurred\"].astype(\"datetime64\")"
   ]
  },
  {
   "cell_type": "code",
   "execution_count": 7,
   "metadata": {},
   "outputs": [
    {
     "data": {
      "text/html": [
       "<div>\n",
       "<style scoped>\n",
       "    .dataframe tbody tr th:only-of-type {\n",
       "        vertical-align: middle;\n",
       "    }\n",
       "\n",
       "    .dataframe tbody tr th {\n",
       "        vertical-align: top;\n",
       "    }\n",
       "\n",
       "    .dataframe thead th {\n",
       "        text-align: right;\n",
       "    }\n",
       "</style>\n",
       "<table border=\"1\" class=\"dataframe\">\n",
       "  <thead>\n",
       "    <tr style=\"text-align: right;\">\n",
       "      <th></th>\n",
       "      <th>Date Occurred</th>\n",
       "      <th>LocationLat</th>\n",
       "      <th>LocationLong</th>\n",
       "    </tr>\n",
       "  </thead>\n",
       "  <tbody>\n",
       "    <tr>\n",
       "      <th>0</th>\n",
       "      <td>2018-07-15</td>\n",
       "      <td>34.0547</td>\n",
       "      <td>-118.2505</td>\n",
       "    </tr>\n",
       "    <tr>\n",
       "      <th>1</th>\n",
       "      <td>2018-07-14</td>\n",
       "      <td>34.0516</td>\n",
       "      <td>-118.2561</td>\n",
       "    </tr>\n",
       "    <tr>\n",
       "      <th>2</th>\n",
       "      <td>2018-07-14</td>\n",
       "      <td>34.0663</td>\n",
       "      <td>-118.2441</td>\n",
       "    </tr>\n",
       "    <tr>\n",
       "      <th>3</th>\n",
       "      <td>2018-05-19</td>\n",
       "      <td>34.0472</td>\n",
       "      <td>-118.2351</td>\n",
       "    </tr>\n",
       "    <tr>\n",
       "      <th>4</th>\n",
       "      <td>2018-07-14</td>\n",
       "      <td>34.0510</td>\n",
       "      <td>-118.2480</td>\n",
       "    </tr>\n",
       "  </tbody>\n",
       "</table>\n",
       "</div>"
      ],
      "text/plain": [
       "  Date Occurred  LocationLat  LocationLong\n",
       "0    2018-07-15      34.0547     -118.2505\n",
       "1    2018-07-14      34.0516     -118.2561\n",
       "2    2018-07-14      34.0663     -118.2441\n",
       "3    2018-05-19      34.0472     -118.2351\n",
       "4    2018-07-14      34.0510     -118.2480"
      ]
     },
     "execution_count": 7,
     "metadata": {},
     "output_type": "execute_result"
    }
   ],
   "source": [
    "Los_Angeles_df.head()"
   ]
  },
  {
   "cell_type": "code",
   "execution_count": 8,
   "metadata": {},
   "outputs": [
    {
     "name": "stdout",
     "output_type": "stream",
     "text": [
      "54474\n"
     ]
    }
   ],
   "source": [
    "Los_Angeles_df_winter=len(Los_Angeles_df.loc[((Los_Angeles_df[\"Date Occurred\"]>= \"2018-01-01\")& \n",
    "                                            (Los_Angeles_df[\"Date Occurred\"] <=\"2018-03-20\")) |\n",
    "                                             (Los_Angeles_df[\"Date Occurred\"]>=\"2018-12-21\")])\n",
    "\n",
    "print(Los_Angeles_df_winter)                                              "
   ]
  },
  {
   "cell_type": "code",
   "execution_count": 9,
   "metadata": {},
   "outputs": [
    {
     "name": "stdout",
     "output_type": "stream",
     "text": [
      "58342\n"
     ]
    }
   ],
   "source": [
    "Los_Angeles_df_spring=len(Los_Angeles_df.loc[(Los_Angeles_df[\"Date Occurred\"]>= \"2018-03-21\")& \n",
    "                                            (Los_Angeles_df[\"Date Occurred\"] <=\"2018-06-20\")])\n",
    "print(Los_Angeles_df_spring)"
   ]
  },
  {
   "cell_type": "code",
   "execution_count": 10,
   "metadata": {},
   "outputs": [
    {
     "name": "stdout",
     "output_type": "stream",
     "text": [
      "58052\n"
     ]
    }
   ],
   "source": [
    "Los_Angeles_df_summer=len(Los_Angeles_df.loc[(Los_Angeles_df[\"Date Occurred\"]>= \"2018-06-21\")& \n",
    "                                            (Los_Angeles_df[\"Date Occurred\"] <=\"2018-09-21\")])\n",
    "print(Los_Angeles_df_summer)"
   ]
  },
  {
   "cell_type": "code",
   "execution_count": 11,
   "metadata": {},
   "outputs": [
    {
     "name": "stdout",
     "output_type": "stream",
     "text": [
      "55194\n"
     ]
    }
   ],
   "source": [
    "Los_Angeles_df_fall=len(Los_Angeles_df.loc[(Los_Angeles_df[\"Date Occurred\"]>= \"2018-09-22\")& \n",
    "                                            (Los_Angeles_df[\"Date Occurred\"] <=\"2018-12-20\")])\n",
    "print(Los_Angeles_df_fall)"
   ]
  },
  {
   "cell_type": "code",
   "execution_count": 12,
   "metadata": {},
   "outputs": [
    {
     "name": "stdout",
     "output_type": "stream",
     "text": [
      "Winter: 54474\n",
      "Spring: 58342\n",
      "Summer: 58052\n",
      "Fall: 55194\n"
     ]
    }
   ],
   "source": [
    "print(f\"Winter: {Los_Angeles_df_winter}\")\n",
    "print(f\"Spring: {Los_Angeles_df_spring}\")\n",
    "print(f\"Summer: {Los_Angeles_df_summer}\")\n",
    "print(f\"Fall: {Los_Angeles_df_fall}\")"
   ]
  },
  {
   "cell_type": "code",
   "execution_count": 18,
   "metadata": {},
   "outputs": [
    {
     "data": {
      "image/png": "[encoded data removed]",
      "text/plain": [
       "<Figure size 432x288 with 1 Axes>"
      ]
     },
     "metadata": {},
     "output_type": "display_data"
    }
   ],
   "source": [
    "# Build Pie Chart\n",
    "Seasons = [\"Winter\", \"Spring\", \"Summer\", \"Fall\"]\n",
    "Crime = [Los_Angeles_df_winter, Los_Angeles_df_spring, Los_Angeles_df_summer, Los_Angeles_df_fall ]\n",
    "colors = [\"lightgreen\", \"red\", \"gold\", \"lightblue\"]\n",
    "explode = [0,0.05,0.05,0]\n",
    "plt.pie(Crime, explode=explode, labels=Seasons, colors=colors, autopct=\"%1.1f%%\", shadow=True, startangle=270)\n",
    "plt.axis(\"equal\")\n",
    "plt.title(\"% of Crime by Season in Los Angeles\")\n",
    "# Save Figure\n",
    "plt.savefig(\"LACrimebySeason.png\")\n",
    "# Show Figure\n",
    "plt.show()\n"
   ]
  },
  {
   "cell_type": "code",
   "execution_count": 19,
   "metadata": {},
   "outputs": [
    {
     "data": {
      "text/plain": [
       "Text(0, 0.5, '# of Crime')"
      ]
     },
     "execution_count": 19,
     "metadata": {},
     "output_type": "execute_result"
    },
    {
     "data": {
      "image/png": "[encoded data removed]",
      "text/plain": [
       "<Figure size 432x288 with 1 Axes>"
      ]
     },
     "metadata": {
      "needs_background": "light"
     },
     "output_type": "display_data"
    }
   ],
   "source": [
    "seasons = [\"Winter\", \"Spring\", \"Summer\", \"Fall\"]\n",
    "crime = [Los_Angeles_df_winter, Los_Angeles_df_spring, Los_Angeles_df_summer, Los_Angeles_df_fall]\n",
    "\n",
    "# Use matplotlib to create a scatter plot based upon the above data\n",
    "plt.scatter(seasons, crime, marker=\"o\", facecolors=\"blue\", linewidth=1, edgecolors=\"black\")\n",
    "\n",
    "# Create a title, x label, and y label for our chart\n",
    "title = f\"Season vs. # of Crime\"\n",
    "plt.title(title)\n",
    "plt.grid(True)\n",
    "plt.xlabel(\"Season\")\n",
    "plt.ylabel(\"# of Crime\")"
   ]
  },
  {
   "cell_type": "code",
   "execution_count": 20,
   "metadata": {},
   "outputs": [],
   "source": [
    "#Chi^2 \n",
    "observed = pd.Series([54474,58342,58052,55194], index=[\"Winter\", \"Spring\", \"Summer\", \"Fall\"])"
   ]
  },
  {
   "cell_type": "code",
   "execution_count": 21,
   "metadata": {},
   "outputs": [
    {
     "data": {
      "text/html": [
       "<div>\n",
       "<style scoped>\n",
       "    .dataframe tbody tr th:only-of-type {\n",
       "        vertical-align: middle;\n",
       "    }\n",
       "\n",
       "    .dataframe tbody tr th {\n",
       "        vertical-align: top;\n",
       "    }\n",
       "\n",
       "    .dataframe thead th {\n",
       "        text-align: right;\n",
       "    }\n",
       "</style>\n",
       "<table border=\"1\" class=\"dataframe\">\n",
       "  <thead>\n",
       "    <tr style=\"text-align: right;\">\n",
       "      <th></th>\n",
       "      <th>observed</th>\n",
       "      <th>expected</th>\n",
       "    </tr>\n",
       "  </thead>\n",
       "  <tbody>\n",
       "    <tr>\n",
       "      <th>Winter</th>\n",
       "      <td>54474</td>\n",
       "      <td>56516</td>\n",
       "    </tr>\n",
       "    <tr>\n",
       "      <th>Spring</th>\n",
       "      <td>58342</td>\n",
       "      <td>56516</td>\n",
       "    </tr>\n",
       "    <tr>\n",
       "      <th>Summer</th>\n",
       "      <td>58052</td>\n",
       "      <td>56516</td>\n",
       "    </tr>\n",
       "    <tr>\n",
       "      <th>Fall</th>\n",
       "      <td>55194</td>\n",
       "      <td>56516</td>\n",
       "    </tr>\n",
       "  </tbody>\n",
       "</table>\n",
       "</div>"
      ],
      "text/plain": [
       "        observed  expected\n",
       "Winter     54474     56516\n",
       "Spring     58342     56516\n",
       "Summer     58052     56516\n",
       "Fall       55194     56516"
      ]
     },
     "execution_count": 21,
     "metadata": {},
     "output_type": "execute_result"
    }
   ],
   "source": [
    "# Create a data frame\n",
    "df = pd.DataFrame([observed]).T\n",
    "\n",
    "# Add a column whose default values are the expected values\n",
    "df[1] = 56516\n",
    "\n",
    "# Rename columns\n",
    "df.columns = [\"observed\", \"expected\"]\n",
    "\n",
    "# View the data frame\n",
    "df"
   ]
  },
  {
   "cell_type": "code",
   "execution_count": 24,
   "metadata": {},
   "outputs": [],
   "source": [
    "# The degree of freedom is 4-1 = 3\n",
    "# With a p-value of 0.05, the confidence level is 1.00-0.05 = 0.95.\n",
    "critical_value = stats.chi2.ppf(q = 0.95, df = 3)"
   ]
  },
  {
   "cell_type": "code",
   "execution_count": 25,
   "metadata": {},
   "outputs": [
    {
     "data": {
      "text/plain": [
       "7.814727903251179"
      ]
     },
     "execution_count": 25,
     "metadata": {},
     "output_type": "execute_result"
    }
   ],
   "source": [
    "# The critical value\n",
    "critical_value"
   ]
  },
  {
   "cell_type": "code",
   "execution_count": 26,
   "metadata": {},
   "outputs": [
    {
     "data": {
      "text/plain": [
       "Power_divergenceResult(statistic=205.4465991931488, pvalue=2.806894212014122e-44)"
      ]
     },
     "execution_count": 26,
     "metadata": {},
     "output_type": "execute_result"
    }
   ],
   "source": [
    "# Run the chi square test with stats.chisquare()\n",
    "stats.chisquare(df['observed'], df['expected'])"
   ]
  },
  {
   "cell_type": "markdown",
   "metadata": {},
   "source": [
    "# Conclusion: since the chi square value of 205.45 exceeds the critical value of 7.81, we conclude that the results are statistically significant."
   ]
  },
  {
   "cell_type": "code",
   "execution_count": 20,
   "metadata": {},
   "outputs": [
    {
     "data": {
      "image/png": "[encoded data removed]",
      "text/plain": [
       "<Figure size 432x288 with 1 Axes>"
      ]
     },
     "metadata": {
      "needs_background": "light"
     },
     "output_type": "display_data"
    }
   ],
   "source": [
    "#Build bar and line chat\n",
    "#show crime by season and high and low temp by season \n",
    "#x-axis is for seasons \n",
    "Crimes = [54474,58342,58052,55194]\n",
    "x_axis = np.arange(len(Crimes))\n",
    "\n",
    "#y-axis is for crimes committed\n",
    "plt.bar(x_axis, Crimes, color='r', alpha=0.5, align=\"center\")\n",
    "\n",
    "# Tell matplotlib where we would like to place each of our x axis headers\n",
    "Crimes = [value for value in x_axis]\n",
    "plt.xticks(Crimes, [\"Winter\", \"Spring\", \"Summer\", \"Fall\"])\n",
    "\n",
    "# Give our chart some labels and a tile\n",
    "plt.title(\"Crime by Season\")\n",
    "plt.xlabel(\"Seasons\")\n",
    "plt.ylabel(\"Number of Crimes Committed\")\n",
    "\n",
    "# Save Figure\n",
    "plt.savefig(\"CrimebyseasonBar.png\")\n",
    "# Show Figure\n",
    "plt.show()"
   ]
  },
  {
   "cell_type": "code",
   "execution_count": 43,
   "metadata": {},
   "outputs": [
    {
     "data": {
      "text/html": [
       "<div>\n",
       "<style scoped>\n",
       "    .dataframe tbody tr th:only-of-type {\n",
       "        vertical-align: middle;\n",
       "    }\n",
       "\n",
       "    .dataframe tbody tr th {\n",
       "        vertical-align: top;\n",
       "    }\n",
       "\n",
       "    .dataframe thead th {\n",
       "        text-align: right;\n",
       "    }\n",
       "</style>\n",
       "<table border=\"1\" class=\"dataframe\">\n",
       "  <thead>\n",
       "    <tr style=\"text-align: right;\">\n",
       "      <th></th>\n",
       "      <th>Month</th>\n",
       "      <th>Highest Temperature</th>\n",
       "      <th>Lowest Temperature</th>\n",
       "    </tr>\n",
       "  </thead>\n",
       "  <tbody>\n",
       "    <tr>\n",
       "      <th>0</th>\n",
       "      <td>January</td>\n",
       "      <td>70</td>\n",
       "      <td>52</td>\n",
       "    </tr>\n",
       "    <tr>\n",
       "      <th>1</th>\n",
       "      <td>February</td>\n",
       "      <td>73</td>\n",
       "      <td>55</td>\n",
       "    </tr>\n",
       "    <tr>\n",
       "      <th>2</th>\n",
       "      <td>March</td>\n",
       "      <td>70</td>\n",
       "      <td>52</td>\n",
       "    </tr>\n",
       "    <tr>\n",
       "      <th>3</th>\n",
       "      <td>April</td>\n",
       "      <td>73</td>\n",
       "      <td>55</td>\n",
       "    </tr>\n",
       "    <tr>\n",
       "      <th>4</th>\n",
       "      <td>May</td>\n",
       "      <td>75</td>\n",
       "      <td>58</td>\n",
       "    </tr>\n",
       "    <tr>\n",
       "      <th>5</th>\n",
       "      <td>June</td>\n",
       "      <td>79</td>\n",
       "      <td>62</td>\n",
       "    </tr>\n",
       "    <tr>\n",
       "      <th>6</th>\n",
       "      <td>July</td>\n",
       "      <td>83</td>\n",
       "      <td>65</td>\n",
       "    </tr>\n",
       "    <tr>\n",
       "      <th>7</th>\n",
       "      <td>August</td>\n",
       "      <td>84</td>\n",
       "      <td>66</td>\n",
       "    </tr>\n",
       "    <tr>\n",
       "      <th>8</th>\n",
       "      <td>September</td>\n",
       "      <td>83</td>\n",
       "      <td>65</td>\n",
       "    </tr>\n",
       "    <tr>\n",
       "      <th>9</th>\n",
       "      <td>October</td>\n",
       "      <td>79</td>\n",
       "      <td>60</td>\n",
       "    </tr>\n",
       "    <tr>\n",
       "      <th>10</th>\n",
       "      <td>November</td>\n",
       "      <td>73</td>\n",
       "      <td>53</td>\n",
       "    </tr>\n",
       "    <tr>\n",
       "      <th>11</th>\n",
       "      <td>December</td>\n",
       "      <td>68</td>\n",
       "      <td>49</td>\n",
       "    </tr>\n",
       "  </tbody>\n",
       "</table>\n",
       "</div>"
      ],
      "text/plain": [
       "        Month  Highest Temperature   Lowest Temperature \n",
       "0     January                    70                   52\n",
       "1    February                    73                   55\n",
       "2       March                    70                   52\n",
       "3       April                    73                   55\n",
       "4         May                    75                   58\n",
       "5        June                    79                   62\n",
       "6        July                    83                   65\n",
       "7      August                    84                   66\n",
       "8   September                    83                   65\n",
       "9     October                    79                   60\n",
       "10   November                    73                   53\n",
       "11   December                    68                   49"
      ]
     },
     "execution_count": 43,
     "metadata": {},
     "output_type": "execute_result"
    }
   ],
   "source": [
    "# Read the Los Angeles city temperature data\n",
    "LATemp_df = \"LATemp.csv\"\n",
    "LATemp_df = pd.read_csv(LATemp_df)\n",
    "\n",
    "# Display the data table for preview\n",
    "LATemp_df.head(12)"
   ]
  },
  {
   "cell_type": "code",
   "execution_count": 23,
   "metadata": {},
   "outputs": [
    {
     "data": {
      "text/plain": [
       "Month                   object\n",
       "Highest Temperature      int64\n",
       "Lowest Temperature       int64\n",
       "dtype: object"
      ]
     },
     "execution_count": 23,
     "metadata": {},
     "output_type": "execute_result"
    }
   ],
   "source": [
    "LATemp_df.dtypes"
   ]
  },
  {
   "cell_type": "code",
   "execution_count": 38,
   "metadata": {},
   "outputs": [
    {
     "ename": "NameError",
     "evalue": "name 'mean' is not defined",
     "output_type": "error",
     "traceback": [
      "\u001b[1;31m---------------------------------------------------------------------------\u001b[0m",
      "\u001b[1;31mNameError\u001b[0m                                 Traceback (most recent call last)",
      "\u001b[1;32m<ipython-input-38-d2490b62f63a>\u001b[0m in \u001b[0;36m<module>\u001b[1;34m\u001b[0m\n\u001b[0;32m      6\u001b[0m \u001b[1;33m\u001b[0m\u001b[0m\n\u001b[0;32m      7\u001b[0m \u001b[0mLATemp_df_winter\u001b[0m \u001b[1;33m=\u001b[0m \u001b[1;33m[\u001b[0m\u001b[1;36m70\u001b[0m\u001b[1;33m,\u001b[0m \u001b[1;36m73\u001b[0m\u001b[1;33m,\u001b[0m \u001b[1;36m70\u001b[0m\u001b[1;33m]\u001b[0m\u001b[1;33m\u001b[0m\u001b[1;33m\u001b[0m\u001b[0m\n\u001b[1;32m----> 8\u001b[1;33m \u001b[0mprint\u001b[0m\u001b[1;33m(\u001b[0m\u001b[1;34mf\"Mean January Months: {mean(LATemp_df_winter)}\"\u001b[0m\u001b[1;33m)\u001b[0m\u001b[1;33m\u001b[0m\u001b[1;33m\u001b[0m\u001b[0m\n\u001b[0m",
      "\u001b[1;31mNameError\u001b[0m: name 'mean' is not defined"
     ]
    }
   ],
   "source": [
    "LATemp_df_winter = [70, 73, 70]\n",
    "print(f\"Mean January Months: {mean(LATemp_df_winter)}\")\n"
   ]
  },
  {
   "cell_type": "code",
   "execution_count": null,
   "metadata": {},
   "outputs": [],
   "source": [
    "#High and low temperature by season \n",
    "High = [39, 42, 51, 62, 72, 82, 86, 84, 77, 65, 55, 44]\n",
    "Low = [(x-32) * 0.56 for x in points_F]\n",
    "points_C"
   ]
  },
  {
   "cell_type": "code",
   "execution_count": null,
   "metadata": {},
   "outputs": [],
   "source": [
    "# Create a handle for each plot\n",
    "fahrenheit, = plt.plot(x_axis, points_F, marker=\"+\",color=\"blue\", linewidth=1, label=\"Fahreneit\")\n",
    "celcius, = plt.plot(x_axis, points_C, marker=\"s\", color=\"Red\", linewidth=1, label=\"Celcius\")"
   ]
  },
  {
   "cell_type": "code",
   "execution_count": null,
   "metadata": {},
   "outputs": [],
   "source": [
    "#heatmap\n",
    "#crime by season for LA\n",
    "\n",
    "1.summer months (June 21- Sept 21)\n",
    "\n",
    "\n",
    "2.fall months (Sept 22 - Dec 20)\n",
    "\n",
    "\n",
    "3.winter months (Dec 21 - March 20)\n",
    "\n",
    "\n",
    "4.spring months (March 21- June 20)\n",
    "\n",
    "\n",
    "2.weather highs\n",
    "\n",
    "\n",
    "1.average over the year for each city\n",
    "\n",
    "\n",
    "2.plot on the same heat map\n",
    "\n",
    "\n",
    "3.weather lows\n",
    "\n",
    "\n",
    "1.average over the year for each\n",
    "\n",
    "\n",
    "\n"
   ]
  },
  {
   "cell_type": "code",
   "execution_count": null,
   "metadata": {},
   "outputs": [],
   "source": []
  }
 ],
 "metadata": {
  "kernelspec": {
   "display_name": "Python 3",
   "language": "python",
   "name": "python3"
  },
  "language_info": {
   "codemirror_mode": {
    "name": "ipython",
    "version": 3
   },
   "file_extension": ".py",
   "mimetype": "text/x-python",
   "name": "python",
   "nbconvert_exporter": "python",
   "pygments_lexer": "ipython3",
   "version": "3.6.7"
  }
 },
 "nbformat": 4,
 "nbformat_minor": 2
}
