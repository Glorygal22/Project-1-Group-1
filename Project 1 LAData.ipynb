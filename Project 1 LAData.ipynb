{
 "cells": [
  {
   "cell_type": "code",
   "execution_count": 1,
   "metadata": {},
   "outputs": [],
   "source": [
    "# Dependencies and Setup\n",
    "%matplotlib inline\n",
    "import matplotlib.pyplot as plt\n",
    "import pandas as pd\n",
    "import numpy as np\n",
    "import json\n",
    "import scipy.stats as stats\n",
    "\n",
    "import gmaps\n",
    "\n",
    "# Google developer API key\n",
    "from Config import gkey\n",
    "\n",
    "# Configure gmaps\n",
    "gmaps.configure(api_key=gkey)"
   ]
  },
  {
   "cell_type": "code",
   "execution_count": 2,
   "metadata": {},
   "outputs": [],
   "source": [
    "# File to load \n",
    "Los_Angeles_df = \"LA_Crime_Data.csv\""
   ]
  },
  {
   "cell_type": "code",
   "execution_count": 3,
   "metadata": {
    "scrolled": true
   },
   "outputs": [
    {
     "data": {
      "text/html": [
       "<div>\n",
       "<style scoped>\n",
       "    .dataframe tbody tr th:only-of-type {\n",
       "        vertical-align: middle;\n",
       "    }\n",
       "\n",
       "    .dataframe tbody tr th {\n",
       "        vertical-align: top;\n",
       "    }\n",
       "\n",
       "    .dataframe thead th {\n",
       "        text-align: right;\n",
       "    }\n",
       "</style>\n",
       "<table border=\"1\" class=\"dataframe\">\n",
       "  <thead>\n",
       "    <tr style=\"text-align: right;\">\n",
       "      <th></th>\n",
       "      <th>Date Occurred</th>\n",
       "      <th>LocationLat</th>\n",
       "      <th>LocationLong</th>\n",
       "    </tr>\n",
       "  </thead>\n",
       "  <tbody>\n",
       "    <tr>\n",
       "      <th>0</th>\n",
       "      <td>7/15/2018</td>\n",
       "      <td>34.0547</td>\n",
       "      <td>-118.2505</td>\n",
       "    </tr>\n",
       "    <tr>\n",
       "      <th>1</th>\n",
       "      <td>7/14/2018</td>\n",
       "      <td>34.0516</td>\n",
       "      <td>-118.2561</td>\n",
       "    </tr>\n",
       "    <tr>\n",
       "      <th>2</th>\n",
       "      <td>7/14/2018</td>\n",
       "      <td>34.0663</td>\n",
       "      <td>-118.2441</td>\n",
       "    </tr>\n",
       "    <tr>\n",
       "      <th>3</th>\n",
       "      <td>5/19/2018</td>\n",
       "      <td>34.0472</td>\n",
       "      <td>-118.2351</td>\n",
       "    </tr>\n",
       "    <tr>\n",
       "      <th>4</th>\n",
       "      <td>7/14/2018</td>\n",
       "      <td>34.0510</td>\n",
       "      <td>-118.2480</td>\n",
       "    </tr>\n",
       "  </tbody>\n",
       "</table>\n",
       "</div>"
      ],
      "text/plain": [
       "  Date Occurred  LocationLat  LocationLong\n",
       "0     7/15/2018      34.0547     -118.2505\n",
       "1     7/14/2018      34.0516     -118.2561\n",
       "2     7/14/2018      34.0663     -118.2441\n",
       "3     5/19/2018      34.0472     -118.2351\n",
       "4     7/14/2018      34.0510     -118.2480"
      ]
     },
     "execution_count": 3,
     "metadata": {},
     "output_type": "execute_result"
    }
   ],
   "source": [
    "# Read the Los Angeles city crime data\n",
    "\n",
    "Los_Angeles_df = pd.read_csv(Los_Angeles_df)\n",
    "\n",
    "# Display the data table for preview\n",
    "Los_Angeles_df.head()"
   ]
  },
  {
   "cell_type": "code",
   "execution_count": 4,
   "metadata": {},
   "outputs": [
    {
     "data": {
      "text/plain": [
       "Date Occurred     object\n",
       "LocationLat      float64\n",
       "LocationLong     float64\n",
       "dtype: object"
      ]
     },
     "execution_count": 4,
     "metadata": {},
     "output_type": "execute_result"
    }
   ],
   "source": [
    "Los_Angeles_df.dtypes"
   ]
  },
  {
   "cell_type": "code",
   "execution_count": 5,
   "metadata": {},
   "outputs": [],
   "source": [
    "Los_Angeles_df[\"Date Occurred\"]=Los_Angeles_df[\"Date Occurred\"].astype(\"datetime64\")"
   ]
  },
  {
   "cell_type": "code",
   "execution_count": 6,
   "metadata": {},
   "outputs": [
    {
     "data": {
      "text/html": [
       "<div>\n",
       "<style scoped>\n",
       "    .dataframe tbody tr th:only-of-type {\n",
       "        vertical-align: middle;\n",
       "    }\n",
       "\n",
       "    .dataframe tbody tr th {\n",
       "        vertical-align: top;\n",
       "    }\n",
       "\n",
       "    .dataframe thead th {\n",
       "        text-align: right;\n",
       "    }\n",
       "</style>\n",
       "<table border=\"1\" class=\"dataframe\">\n",
       "  <thead>\n",
       "    <tr style=\"text-align: right;\">\n",
       "      <th></th>\n",
       "      <th>Date Occurred</th>\n",
       "      <th>LocationLat</th>\n",
       "      <th>LocationLong</th>\n",
       "    </tr>\n",
       "  </thead>\n",
       "  <tbody>\n",
       "    <tr>\n",
       "      <th>0</th>\n",
       "      <td>2018-07-15</td>\n",
       "      <td>34.0547</td>\n",
       "      <td>-118.2505</td>\n",
       "    </tr>\n",
       "    <tr>\n",
       "      <th>1</th>\n",
       "      <td>2018-07-14</td>\n",
       "      <td>34.0516</td>\n",
       "      <td>-118.2561</td>\n",
       "    </tr>\n",
       "    <tr>\n",
       "      <th>2</th>\n",
       "      <td>2018-07-14</td>\n",
       "      <td>34.0663</td>\n",
       "      <td>-118.2441</td>\n",
       "    </tr>\n",
       "    <tr>\n",
       "      <th>3</th>\n",
       "      <td>2018-05-19</td>\n",
       "      <td>34.0472</td>\n",
       "      <td>-118.2351</td>\n",
       "    </tr>\n",
       "    <tr>\n",
       "      <th>4</th>\n",
       "      <td>2018-07-14</td>\n",
       "      <td>34.0510</td>\n",
       "      <td>-118.2480</td>\n",
       "    </tr>\n",
       "  </tbody>\n",
       "</table>\n",
       "</div>"
      ],
      "text/plain": [
       "  Date Occurred  LocationLat  LocationLong\n",
       "0    2018-07-15      34.0547     -118.2505\n",
       "1    2018-07-14      34.0516     -118.2561\n",
       "2    2018-07-14      34.0663     -118.2441\n",
       "3    2018-05-19      34.0472     -118.2351\n",
       "4    2018-07-14      34.0510     -118.2480"
      ]
     },
     "execution_count": 6,
     "metadata": {},
     "output_type": "execute_result"
    }
   ],
   "source": [
    "Los_Angeles_df.head()"
   ]
  },
  {
   "cell_type": "code",
   "execution_count": 7,
   "metadata": {},
   "outputs": [
    {
     "name": "stdout",
     "output_type": "stream",
     "text": [
      "54474\n"
     ]
    }
   ],
   "source": [
    "Los_Angeles_df_winter=len(Los_Angeles_df.loc[((Los_Angeles_df[\"Date Occurred\"]>= \"2018-01-01\")& \n",
    "                                            (Los_Angeles_df[\"Date Occurred\"] <=\"2018-03-20\")) |\n",
    "                                             (Los_Angeles_df[\"Date Occurred\"]>=\"2018-12-21\")])\n",
    "\n",
    "print(Los_Angeles_df_winter)                                              "
   ]
  },
  {
   "cell_type": "code",
   "execution_count": 8,
   "metadata": {},
   "outputs": [
    {
     "name": "stdout",
     "output_type": "stream",
     "text": [
      "58342\n"
     ]
    }
   ],
   "source": [
    "Los_Angeles_df_spring=len(Los_Angeles_df.loc[(Los_Angeles_df[\"Date Occurred\"]>= \"2018-03-21\")& \n",
    "                                            (Los_Angeles_df[\"Date Occurred\"] <=\"2018-06-20\")])\n",
    "print(Los_Angeles_df_spring)"
   ]
  },
  {
   "cell_type": "code",
   "execution_count": 9,
   "metadata": {},
   "outputs": [
    {
     "name": "stdout",
     "output_type": "stream",
     "text": [
      "58052\n"
     ]
    }
   ],
   "source": [
    "Los_Angeles_df_summer=len(Los_Angeles_df.loc[(Los_Angeles_df[\"Date Occurred\"]>= \"2018-06-21\")& \n",
    "                                            (Los_Angeles_df[\"Date Occurred\"] <=\"2018-09-21\")])\n",
    "print(Los_Angeles_df_summer)"
   ]
  },
  {
   "cell_type": "code",
   "execution_count": 10,
   "metadata": {},
   "outputs": [
    {
     "name": "stdout",
     "output_type": "stream",
     "text": [
      "55194\n"
     ]
    }
   ],
   "source": [
    "Los_Angeles_df_fall=len(Los_Angeles_df.loc[(Los_Angeles_df[\"Date Occurred\"]>= \"2018-09-22\")& \n",
    "                                            (Los_Angeles_df[\"Date Occurred\"] <=\"2018-12-20\")])\n",
    "print(Los_Angeles_df_fall)"
   ]
  },
  {
   "cell_type": "code",
   "execution_count": 11,
   "metadata": {},
   "outputs": [
    {
     "name": "stdout",
     "output_type": "stream",
     "text": [
      "Winter: 54474\n",
      "Spring: 58342\n",
      "Summer: 58052\n",
      "Fall: 55194\n"
     ]
    }
   ],
   "source": [
    "print(f\"Winter: {Los_Angeles_df_winter}\")\n",
    "print(f\"Spring: {Los_Angeles_df_spring}\")\n",
    "print(f\"Summer: {Los_Angeles_df_summer}\")\n",
    "print(f\"Fall: {Los_Angeles_df_fall}\")"
   ]
  },
  {
   "cell_type": "code",
   "execution_count": 12,
   "metadata": {},
   "outputs": [
    {
     "data": {
      "image/png": "[encoded data removed]",
      "text/plain": [
       "<Figure size 432x288 with 1 Axes>"
      ]
     },
     "metadata": {},
     "output_type": "display_data"
    }
   ],
   "source": [
    "# Build Pie Chart\n",
    "Seasons = [\"Winter\", \"Spring\", \"Summer\", \"Fall\"]\n",
    "Crime = [Los_Angeles_df_winter, Los_Angeles_df_spring, Los_Angeles_df_summer, Los_Angeles_df_fall ]\n",
    "colors = [\"lightgreen\", \"red\", \"gold\", \"lightblue\"]\n",
    "explode = [0,0.05,0.05,0]\n",
    "plt.pie(Crime, explode=explode, labels=Seasons, colors=colors, autopct=\"%1.1f%%\", shadow=True, startangle=270)\n",
    "plt.axis(\"equal\")\n",
    "plt.title(\"% of Crime by Season in Los Angeles\")\n",
    "# Save Figure\n",
    "plt.savefig(\"LACrimebySeason.png\")\n",
    "# Show Figure\n",
    "plt.show()\n"
   ]
  },
  {
   "cell_type": "code",
   "execution_count": 13,
   "metadata": {},
   "outputs": [],
   "source": [
    "#Chi^2 \n",
    "observed = pd.Series([54474,58342,58052,55194], index=[\"Winter\", \"Spring\", \"Summer\", \"Fall\"])"
   ]
  },
  {
   "cell_type": "code",
   "execution_count": 14,
   "metadata": {},
   "outputs": [
    {
     "data": {
      "text/html": [
       "<div>\n",
       "<style scoped>\n",
       "    .dataframe tbody tr th:only-of-type {\n",
       "        vertical-align: middle;\n",
       "    }\n",
       "\n",
       "    .dataframe tbody tr th {\n",
       "        vertical-align: top;\n",
       "    }\n",
       "\n",
       "    .dataframe thead th {\n",
       "        text-align: right;\n",
       "    }\n",
       "</style>\n",
       "<table border=\"1\" class=\"dataframe\">\n",
       "  <thead>\n",
       "    <tr style=\"text-align: right;\">\n",
       "      <th></th>\n",
       "      <th>observed</th>\n",
       "      <th>expected</th>\n",
       "    </tr>\n",
       "  </thead>\n",
       "  <tbody>\n",
       "    <tr>\n",
       "      <th>Winter</th>\n",
       "      <td>54474</td>\n",
       "      <td>56516</td>\n",
       "    </tr>\n",
       "    <tr>\n",
       "      <th>Spring</th>\n",
       "      <td>58342</td>\n",
       "      <td>56516</td>\n",
       "    </tr>\n",
       "    <tr>\n",
       "      <th>Summer</th>\n",
       "      <td>58052</td>\n",
       "      <td>56516</td>\n",
       "    </tr>\n",
       "    <tr>\n",
       "      <th>Fall</th>\n",
       "      <td>55194</td>\n",
       "      <td>56516</td>\n",
       "    </tr>\n",
       "  </tbody>\n",
       "</table>\n",
       "</div>"
      ],
      "text/plain": [
       "        observed  expected\n",
       "Winter     54474     56516\n",
       "Spring     58342     56516\n",
       "Summer     58052     56516\n",
       "Fall       55194     56516"
      ]
     },
     "execution_count": 14,
     "metadata": {},
     "output_type": "execute_result"
    }
   ],
   "source": [
    "# Create a data frame\n",
    "df = pd.DataFrame([observed]).T\n",
    "\n",
    "# Add a column whose default values are the expected values\n",
    "df[1] = 56516\n",
    "\n",
    "# Rename columns\n",
    "df.columns = [\"observed\", \"expected\"]\n",
    "\n",
    "# View the data frame\n",
    "df"
   ]
  },
  {
   "cell_type": "code",
   "execution_count": 15,
   "metadata": {},
   "outputs": [],
   "source": [
    "# The degree of freedom is 4-1 = 3\n",
    "# With a p-value of 0.05, the confidence level is 1.00-0.05 = 0.95.\n",
    "critical_value = stats.chi2.ppf(q = 0.95, df = 3)"
   ]
  },
  {
   "cell_type": "code",
   "execution_count": 16,
   "metadata": {},
   "outputs": [
    {
     "data": {
      "text/plain": [
       "7.814727903251179"
      ]
     },
     "execution_count": 16,
     "metadata": {},
     "output_type": "execute_result"
    }
   ],
   "source": [
    "# The critical value\n",
    "critical_value"
   ]
  },
  {
   "cell_type": "code",
   "execution_count": 17,
   "metadata": {},
   "outputs": [
    {
     "data": {
      "text/plain": [
       "Power_divergenceResult(statistic=205.4465991931488, pvalue=2.806894212014122e-44)"
      ]
     },
     "execution_count": 17,
     "metadata": {},
     "output_type": "execute_result"
    }
   ],
   "source": [
    "# Run the chi square test with stats.chisquare()\n",
    "stats.chisquare(df['observed'], df['expected'])"
   ]
  },
  {
   "cell_type": "markdown",
   "metadata": {},
   "source": [
    "# Conclusion: since the chi square value of 205.45 exceeds the critical value of 7.81, we conclude that the results are statistically significant."
   ]
  },
  {
   "cell_type": "code",
   "execution_count": 18,
   "metadata": {},
   "outputs": [
    {
     "data": {
      "image/png": "[encoded data removed]",
      "text/plain": [
       "<Figure size 432x288 with 1 Axes>"
      ]
     },
     "metadata": {
      "needs_background": "light"
     },
     "output_type": "display_data"
    }
   ],
   "source": [
    "#Build bar and line chat\n",
    "#show crime by season and high and low temp by season \n",
    "#x-axis is for seasons \n",
    "Crimes = [54474,58342,58052,55194]\n",
    "x_axis = np.arange(len(Crimes))\n",
    "\n",
    "#y-axis is for crimes committed\n",
    "plt.bar(x_axis, Crimes, color='r', alpha=0.5, align=\"center\")\n",
    "\n",
    "# Tell matplotlib where we would like to place each of our x axis headers\n",
    "Crimes = [value for value in x_axis]\n",
    "plt.xticks(Crimes, [\"Winter\", \"Spring\", \"Summer\", \"Fall\"])\n",
    "\n",
    "# Give our chart some labels and a tile\n",
    "plt.title(\"Crime by Season\")\n",
    "plt.xlabel(\"Seasons\")\n",
    "plt.ylabel(\"Number of Crimes Committed\")\n",
    "\n",
    "# Save Figure\n",
    "plt.savefig(\"CrimebyseasonBar.png\")\n",
    "# Show Figure\n",
    "plt.show()"
   ]
  },
  {
   "cell_type": "code",
   "execution_count": 19,
   "metadata": {},
   "outputs": [
    {
     "name": "stdout",
     "output_type": "stream",
     "text": [
      "19083\n"
     ]
    }
   ],
   "source": [
    "LA_jan = len(Los_Angeles_df.loc[((Los_Angeles_df[\"Date Occurred\"]>= \"2018-01-01\")&\n",
    "                              (Los_Angeles_df[\"Date Occurred\"] <= \"2018-01-31\"))])\n",
    "print(LA_jan)"
   ]
  },
  {
   "cell_type": "code",
   "execution_count": 20,
   "metadata": {},
   "outputs": [
    {
     "name": "stdout",
     "output_type": "stream",
     "text": [
      "17002\n"
     ]
    }
   ],
   "source": [
    "LA_feb = len(Los_Angeles_df.loc[((Los_Angeles_df[\"Date Occurred\"]>= \"2018-02-01\")&\n",
    "                              (Los_Angeles_df[\"Date Occurred\"] <= \"2018-02-28\"))])\n",
    "print(LA_feb)"
   ]
  },
  {
   "cell_type": "code",
   "execution_count": 21,
   "metadata": {},
   "outputs": [
    {
     "name": "stdout",
     "output_type": "stream",
     "text": [
      "18882\n"
     ]
    }
   ],
   "source": [
    "LA_mar = len(Los_Angeles_df.loc[((Los_Angeles_df[\"Date Occurred\"]>= \"2018-03-01\")&\n",
    "                              (Los_Angeles_df[\"Date Occurred\"] <= \"2018-03-31\"))])\n",
    "print(LA_mar)"
   ]
  },
  {
   "cell_type": "code",
   "execution_count": 22,
   "metadata": {},
   "outputs": [
    {
     "name": "stdout",
     "output_type": "stream",
     "text": [
      "18948\n"
     ]
    }
   ],
   "source": [
    "LA_apr = len(Los_Angeles_df.loc[((Los_Angeles_df[\"Date Occurred\"]>= \"2018-04-01\")&\n",
    "                              (Los_Angeles_df[\"Date Occurred\"] <= \"2018-04-30\"))])\n",
    "print(LA_apr)"
   ]
  },
  {
   "cell_type": "code",
   "execution_count": 23,
   "metadata": {},
   "outputs": [
    {
     "name": "stdout",
     "output_type": "stream",
     "text": [
      "19756\n"
     ]
    }
   ],
   "source": [
    "LA_may = len(Los_Angeles_df.loc[((Los_Angeles_df[\"Date Occurred\"]>= \"2018-05-01\")&\n",
    "                              (Los_Angeles_df[\"Date Occurred\"] <= \"2018-05-31\"))])\n",
    "print(LA_may)"
   ]
  },
  {
   "cell_type": "code",
   "execution_count": 24,
   "metadata": {},
   "outputs": [
    {
     "name": "stdout",
     "output_type": "stream",
     "text": [
      "19035\n"
     ]
    }
   ],
   "source": [
    "LA_jun = len(Los_Angeles_df.loc[((Los_Angeles_df[\"Date Occurred\"]>= \"2018-06-01\")&\n",
    "                              (Los_Angeles_df[\"Date Occurred\"] <= \"2018-06-30\"))])\n",
    "print(LA_jun)"
   ]
  },
  {
   "cell_type": "code",
   "execution_count": 25,
   "metadata": {},
   "outputs": [
    {
     "name": "stdout",
     "output_type": "stream",
     "text": [
      "19644\n"
     ]
    }
   ],
   "source": [
    "LA_jul = len(Los_Angeles_df.loc[((Los_Angeles_df[\"Date Occurred\"]>= \"2018-07-01\")&\n",
    "                              (Los_Angeles_df[\"Date Occurred\"] <= \"2018-07-31\"))])\n",
    "print(LA_jul)"
   ]
  },
  {
   "cell_type": "code",
   "execution_count": 26,
   "metadata": {},
   "outputs": [
    {
     "name": "stdout",
     "output_type": "stream",
     "text": [
      "19433\n"
     ]
    }
   ],
   "source": [
    "LA_aug = len(Los_Angeles_df.loc[((Los_Angeles_df[\"Date Occurred\"]>= \"2018-08-01\")&\n",
    "                              (Los_Angeles_df[\"Date Occurred\"] <= \"2018-08-31\"))])\n",
    "print(LA_aug)"
   ]
  },
  {
   "cell_type": "code",
   "execution_count": 27,
   "metadata": {},
   "outputs": [
    {
     "name": "stdout",
     "output_type": "stream",
     "text": [
      "18215\n"
     ]
    }
   ],
   "source": [
    "LA_sep = len(Los_Angeles_df.loc[((Los_Angeles_df[\"Date Occurred\"]>= \"2018-09-01\")&\n",
    "                              (Los_Angeles_df[\"Date Occurred\"] <= \"2018-09-30\"))])\n",
    "print(LA_sep)"
   ]
  },
  {
   "cell_type": "code",
   "execution_count": 28,
   "metadata": {},
   "outputs": [
    {
     "name": "stdout",
     "output_type": "stream",
     "text": [
      "19215\n"
     ]
    }
   ],
   "source": [
    "LA_oct = len(Los_Angeles_df.loc[((Los_Angeles_df[\"Date Occurred\"]>= \"2018-10-01\")&\n",
    "                              (Los_Angeles_df[\"Date Occurred\"] <= \"2018-10-31\"))])\n",
    "print(LA_oct)"
   ]
  },
  {
   "cell_type": "code",
   "execution_count": 29,
   "metadata": {},
   "outputs": [
    {
     "name": "stdout",
     "output_type": "stream",
     "text": [
      "17002\n"
     ]
    }
   ],
   "source": [
    "LA_nov = len(Los_Angeles_df.loc[((Los_Angeles_df[\"Date Occurred\"]>= \"2018-11-01\")&\n",
    "                              (Los_Angeles_df[\"Date Occurred\"] <= \"2018-11-30\"))])\n",
    "print(LA_feb)"
   ]
  },
  {
   "cell_type": "code",
   "execution_count": 30,
   "metadata": {},
   "outputs": [
    {
     "name": "stdout",
     "output_type": "stream",
     "text": [
      "18532\n"
     ]
    }
   ],
   "source": [
    "LA_dec = len(Los_Angeles_df.loc[((Los_Angeles_df[\"Date Occurred\"]>= \"2018-12-01\")&\n",
    "                              (Los_Angeles_df[\"Date Occurred\"] <= \"2018-12-31\"))])\n",
    "print(LA_dec)"
   ]
  },
  {
   "cell_type": "code",
   "execution_count": 31,
   "metadata": {},
   "outputs": [
    {
     "data": {
      "text/html": [
       "<div>\n",
       "<style scoped>\n",
       "    .dataframe tbody tr th:only-of-type {\n",
       "        vertical-align: middle;\n",
       "    }\n",
       "\n",
       "    .dataframe tbody tr th {\n",
       "        vertical-align: top;\n",
       "    }\n",
       "\n",
       "    .dataframe thead th {\n",
       "        text-align: right;\n",
       "    }\n",
       "</style>\n",
       "<table border=\"1\" class=\"dataframe\">\n",
       "  <thead>\n",
       "    <tr style=\"text-align: right;\">\n",
       "      <th></th>\n",
       "      <th>Month</th>\n",
       "      <th>Highest Temperature</th>\n",
       "      <th>Lowest Temperature</th>\n",
       "    </tr>\n",
       "  </thead>\n",
       "  <tbody>\n",
       "    <tr>\n",
       "      <th>0</th>\n",
       "      <td>January</td>\n",
       "      <td>70</td>\n",
       "      <td>52</td>\n",
       "    </tr>\n",
       "    <tr>\n",
       "      <th>1</th>\n",
       "      <td>February</td>\n",
       "      <td>73</td>\n",
       "      <td>55</td>\n",
       "    </tr>\n",
       "    <tr>\n",
       "      <th>2</th>\n",
       "      <td>March</td>\n",
       "      <td>70</td>\n",
       "      <td>52</td>\n",
       "    </tr>\n",
       "    <tr>\n",
       "      <th>3</th>\n",
       "      <td>April</td>\n",
       "      <td>73</td>\n",
       "      <td>55</td>\n",
       "    </tr>\n",
       "    <tr>\n",
       "      <th>4</th>\n",
       "      <td>May</td>\n",
       "      <td>75</td>\n",
       "      <td>58</td>\n",
       "    </tr>\n",
       "    <tr>\n",
       "      <th>5</th>\n",
       "      <td>June</td>\n",
       "      <td>79</td>\n",
       "      <td>62</td>\n",
       "    </tr>\n",
       "    <tr>\n",
       "      <th>6</th>\n",
       "      <td>July</td>\n",
       "      <td>83</td>\n",
       "      <td>65</td>\n",
       "    </tr>\n",
       "    <tr>\n",
       "      <th>7</th>\n",
       "      <td>August</td>\n",
       "      <td>84</td>\n",
       "      <td>66</td>\n",
       "    </tr>\n",
       "    <tr>\n",
       "      <th>8</th>\n",
       "      <td>September</td>\n",
       "      <td>83</td>\n",
       "      <td>65</td>\n",
       "    </tr>\n",
       "    <tr>\n",
       "      <th>9</th>\n",
       "      <td>October</td>\n",
       "      <td>79</td>\n",
       "      <td>60</td>\n",
       "    </tr>\n",
       "    <tr>\n",
       "      <th>10</th>\n",
       "      <td>November</td>\n",
       "      <td>73</td>\n",
       "      <td>53</td>\n",
       "    </tr>\n",
       "    <tr>\n",
       "      <th>11</th>\n",
       "      <td>December</td>\n",
       "      <td>68</td>\n",
       "      <td>49</td>\n",
       "    </tr>\n",
       "  </tbody>\n",
       "</table>\n",
       "</div>"
      ],
      "text/plain": [
       "        Month  Highest Temperature   Lowest Temperature \n",
       "0     January                    70                   52\n",
       "1    February                    73                   55\n",
       "2       March                    70                   52\n",
       "3       April                    73                   55\n",
       "4         May                    75                   58\n",
       "5        June                    79                   62\n",
       "6        July                    83                   65\n",
       "7      August                    84                   66\n",
       "8   September                    83                   65\n",
       "9     October                    79                   60\n",
       "10   November                    73                   53\n",
       "11   December                    68                   49"
      ]
     },
     "execution_count": 31,
     "metadata": {},
     "output_type": "execute_result"
    }
   ],
   "source": [
    "# Read the Los Angeles city temperature data\n",
    "LATemp_df = \"LATemp.csv\"\n",
    "LATemp_df = pd.read_csv(LATemp_df)\n",
    "\n",
    "# Display the data table for preview\n",
    "LATemp_df.head(12)"
   ]
  },
  {
   "cell_type": "code",
   "execution_count": 32,
   "metadata": {},
   "outputs": [],
   "source": [
    "#Build bar and line chart\n",
    "#show crime by season and high and low temp by season\n",
    "#x-axis is for seasons\n",
    "Crimes = [LA_jan, LA_feb, LA_mar, \n",
    "          LA_apr, LA_may, LA_jun, \n",
    "          LA_jul, LA_aug, LA_sep, \n",
    "          LA_oct, LA_nov, LA_dec]\n",
    "\n",
    "x_axis = [\"Jan\", \"Feb\", \"Mar\", \n",
    "          \"Apr\", \"May\", \"Jun\", \n",
    "          \"Jul\", \"Aug\", \"Sep\", \n",
    "          \"Oct\", \"Nov\", \"Dec\"]"
   ]
  },
  {
   "cell_type": "code",
   "execution_count": 33,
   "metadata": {},
   "outputs": [
    {
     "data": {
      "text/plain": [
       "Index(['Month', 'Highest Temperature ', 'Lowest Temperature '], dtype='object')"
      ]
     },
     "execution_count": 33,
     "metadata": {},
     "output_type": "execute_result"
    }
   ],
   "source": [
    "LATemp_df.columns"
   ]
  },
  {
   "cell_type": "code",
   "execution_count": 34,
   "metadata": {},
   "outputs": [
    {
     "data": {
      "text/html": [
       "<div>\n",
       "<style scoped>\n",
       "    .dataframe tbody tr th:only-of-type {\n",
       "        vertical-align: middle;\n",
       "    }\n",
       "\n",
       "    .dataframe tbody tr th {\n",
       "        vertical-align: top;\n",
       "    }\n",
       "\n",
       "    .dataframe thead th {\n",
       "        text-align: right;\n",
       "    }\n",
       "</style>\n",
       "<table border=\"1\" class=\"dataframe\">\n",
       "  <thead>\n",
       "    <tr style=\"text-align: right;\">\n",
       "      <th></th>\n",
       "      <th>Number of Crimes</th>\n",
       "      <th>Highs</th>\n",
       "      <th>Lows</th>\n",
       "    </tr>\n",
       "  </thead>\n",
       "  <tbody>\n",
       "    <tr>\n",
       "      <th>0</th>\n",
       "      <td>19083</td>\n",
       "      <td>70</td>\n",
       "      <td>52</td>\n",
       "    </tr>\n",
       "    <tr>\n",
       "      <th>1</th>\n",
       "      <td>17002</td>\n",
       "      <td>73</td>\n",
       "      <td>55</td>\n",
       "    </tr>\n",
       "    <tr>\n",
       "      <th>2</th>\n",
       "      <td>18882</td>\n",
       "      <td>70</td>\n",
       "      <td>52</td>\n",
       "    </tr>\n",
       "    <tr>\n",
       "      <th>3</th>\n",
       "      <td>18948</td>\n",
       "      <td>73</td>\n",
       "      <td>55</td>\n",
       "    </tr>\n",
       "    <tr>\n",
       "      <th>4</th>\n",
       "      <td>19756</td>\n",
       "      <td>75</td>\n",
       "      <td>58</td>\n",
       "    </tr>\n",
       "    <tr>\n",
       "      <th>5</th>\n",
       "      <td>19035</td>\n",
       "      <td>79</td>\n",
       "      <td>62</td>\n",
       "    </tr>\n",
       "    <tr>\n",
       "      <th>6</th>\n",
       "      <td>19644</td>\n",
       "      <td>83</td>\n",
       "      <td>65</td>\n",
       "    </tr>\n",
       "    <tr>\n",
       "      <th>7</th>\n",
       "      <td>19433</td>\n",
       "      <td>84</td>\n",
       "      <td>66</td>\n",
       "    </tr>\n",
       "    <tr>\n",
       "      <th>8</th>\n",
       "      <td>18215</td>\n",
       "      <td>83</td>\n",
       "      <td>65</td>\n",
       "    </tr>\n",
       "    <tr>\n",
       "      <th>9</th>\n",
       "      <td>19215</td>\n",
       "      <td>79</td>\n",
       "      <td>60</td>\n",
       "    </tr>\n",
       "    <tr>\n",
       "      <th>10</th>\n",
       "      <td>18317</td>\n",
       "      <td>73</td>\n",
       "      <td>53</td>\n",
       "    </tr>\n",
       "    <tr>\n",
       "      <th>11</th>\n",
       "      <td>18532</td>\n",
       "      <td>68</td>\n",
       "      <td>49</td>\n",
       "    </tr>\n",
       "  </tbody>\n",
       "</table>\n",
       "</div>"
      ],
      "text/plain": [
       "    Number of Crimes  Highs  Lows\n",
       "0              19083     70    52\n",
       "1              17002     73    55\n",
       "2              18882     70    52\n",
       "3              18948     73    55\n",
       "4              19756     75    58\n",
       "5              19035     79    62\n",
       "6              19644     83    65\n",
       "7              19433     84    66\n",
       "8              18215     83    65\n",
       "9              19215     79    60\n",
       "10             18317     73    53\n",
       "11             18532     68    49"
      ]
     },
     "execution_count": 34,
     "metadata": {},
     "output_type": "execute_result"
    }
   ],
   "source": [
    "m1_t = pd.DataFrame({\n",
    " 'Number of Crimes' : [LA_jan, LA_feb, LA_mar, \n",
    "          LA_apr, LA_may, LA_jun, \n",
    "          LA_jul, LA_aug, LA_sep, \n",
    "          LA_oct, LA_nov, LA_dec],\n",
    " 'Highs' : LATemp_df['Highest Temperature '],\n",
    " 'Lows' : LATemp_df['Lowest Temperature ']})\n",
    "\n",
    "m1_t.head(12)"
   ]
  },
  {
   "cell_type": "code",
   "execution_count": 35,
   "metadata": {},
   "outputs": [
    {
     "data": {
      "image/png": "[encoded data removed]",
      "text/plain": [
       "<Figure size 720x360 with 2 Axes>"
      ]
     },
     "metadata": {
      "needs_background": "light"
     },
     "output_type": "display_data"
    },
    {
     "data": {
      "text/plain": [
       "<Figure size 432x288 with 0 Axes>"
      ]
     },
     "metadata": {},
     "output_type": "display_data"
    }
   ],
   "source": [
    "fig = plt.figure(figsize= (10, 5))\n",
    "ax = m1_t['Number of Crimes'].plot(kind='bar', use_index=True, colormap=\"plasma\")\n",
    "\n",
    "plt.ylabel(\"Number of Crimes\")\n",
    "plt.xlabel(\"Months\")\n",
    "plt.title(\"LA Crime and Weather Data\")\n",
    "\n",
    "ax2 = ax.twinx()\n",
    "ax2.plot(ax.get_xticks(),\n",
    "         m1_t[['Highs','Lows']].values,\n",
    "         linestyle='-',\n",
    "         marker='o', linewidth=2.0)\n",
    "ax.set_xticklabels(tuple(x_axis))\n",
    "plt.legend((\"Avg. High Temps\", \"Avg. Low Temps\"), loc=\"upper left\")\n",
    "plt.ylabel(\"Temperature (Degrees F)\")\n",
    "plt.show()\n",
    "# Save Figure\n",
    "plt.savefig(\"LACrimeandWeather.png\")"
   ]
  },
  {
   "cell_type": "code",
   "execution_count": 36,
   "metadata": {},
   "outputs": [
    {
     "data": {
      "text/plain": [
       "Date Occurred    0\n",
       "LocationLat      0\n",
       "LocationLong     0\n",
       "dtype: int64"
      ]
     },
     "execution_count": 36,
     "metadata": {},
     "output_type": "execute_result"
    }
   ],
   "source": [
    "Los_Angeles_df.isna().sum()"
   ]
  },
  {
   "cell_type": "code",
   "execution_count": 37,
   "metadata": {},
   "outputs": [
    {
     "data": {
      "text/html": [
       "<div>\n",
       "<style scoped>\n",
       "    .dataframe tbody tr th:only-of-type {\n",
       "        vertical-align: middle;\n",
       "    }\n",
       "\n",
       "    .dataframe tbody tr th {\n",
       "        vertical-align: top;\n",
       "    }\n",
       "\n",
       "    .dataframe thead th {\n",
       "        text-align: right;\n",
       "    }\n",
       "</style>\n",
       "<table border=\"1\" class=\"dataframe\">\n",
       "  <thead>\n",
       "    <tr style=\"text-align: right;\">\n",
       "      <th></th>\n",
       "      <th>Date Occurred</th>\n",
       "      <th>LocationLat</th>\n",
       "      <th>LocationLong</th>\n",
       "    </tr>\n",
       "  </thead>\n",
       "  <tbody>\n",
       "    <tr>\n",
       "      <th>0</th>\n",
       "      <td>2018-07-15</td>\n",
       "      <td>34.0547</td>\n",
       "      <td>-118.2505</td>\n",
       "    </tr>\n",
       "    <tr>\n",
       "      <th>1</th>\n",
       "      <td>2018-07-14</td>\n",
       "      <td>34.0516</td>\n",
       "      <td>-118.2561</td>\n",
       "    </tr>\n",
       "    <tr>\n",
       "      <th>2</th>\n",
       "      <td>2018-07-14</td>\n",
       "      <td>34.0663</td>\n",
       "      <td>-118.2441</td>\n",
       "    </tr>\n",
       "    <tr>\n",
       "      <th>3</th>\n",
       "      <td>2018-05-19</td>\n",
       "      <td>34.0472</td>\n",
       "      <td>-118.2351</td>\n",
       "    </tr>\n",
       "    <tr>\n",
       "      <th>4</th>\n",
       "      <td>2018-07-14</td>\n",
       "      <td>34.0510</td>\n",
       "      <td>-118.2480</td>\n",
       "    </tr>\n",
       "  </tbody>\n",
       "</table>\n",
       "</div>"
      ],
      "text/plain": [
       "  Date Occurred  LocationLat  LocationLong\n",
       "0    2018-07-15      34.0547     -118.2505\n",
       "1    2018-07-14      34.0516     -118.2561\n",
       "2    2018-07-14      34.0663     -118.2441\n",
       "3    2018-05-19      34.0472     -118.2351\n",
       "4    2018-07-14      34.0510     -118.2480"
      ]
     },
     "execution_count": 37,
     "metadata": {},
     "output_type": "execute_result"
    }
   ],
   "source": [
    "LA_clean = Los_Angeles_df.dropna(how='any')\n",
    "LA_clean.head()"
   ]
  },
  {
   "cell_type": "code",
   "execution_count": 38,
   "metadata": {},
   "outputs": [],
   "source": [
    "Los_Angeles_df[\"Month\"] = Los_Angeles_df[\"Date Occurred\"].dt.month"
   ]
  },
  {
   "cell_type": "code",
   "execution_count": 39,
   "metadata": {},
   "outputs": [
    {
     "data": {
      "text/html": [
       "<div>\n",
       "<style scoped>\n",
       "    .dataframe tbody tr th:only-of-type {\n",
       "        vertical-align: middle;\n",
       "    }\n",
       "\n",
       "    .dataframe tbody tr th {\n",
       "        vertical-align: top;\n",
       "    }\n",
       "\n",
       "    .dataframe thead th {\n",
       "        text-align: right;\n",
       "    }\n",
       "</style>\n",
       "<table border=\"1\" class=\"dataframe\">\n",
       "  <thead>\n",
       "    <tr style=\"text-align: right;\">\n",
       "      <th></th>\n",
       "      <th>Date Occurred</th>\n",
       "      <th>LocationLat</th>\n",
       "      <th>LocationLong</th>\n",
       "      <th>Month</th>\n",
       "    </tr>\n",
       "  </thead>\n",
       "  <tbody>\n",
       "    <tr>\n",
       "      <th>55892</th>\n",
       "      <td>2018-03-30</td>\n",
       "      <td>34.1016</td>\n",
       "      <td>-118.3267</td>\n",
       "      <td>3</td>\n",
       "    </tr>\n",
       "    <tr>\n",
       "      <th>163052</th>\n",
       "      <td>2018-04-25</td>\n",
       "      <td>34.2497</td>\n",
       "      <td>-118.2804</td>\n",
       "      <td>4</td>\n",
       "    </tr>\n",
       "    <tr>\n",
       "      <th>210720</th>\n",
       "      <td>2018-03-18</td>\n",
       "      <td>34.1938</td>\n",
       "      <td>-118.5797</td>\n",
       "      <td>3</td>\n",
       "    </tr>\n",
       "    <tr>\n",
       "      <th>64412</th>\n",
       "      <td>2018-01-17</td>\n",
       "      <td>34.0478</td>\n",
       "      <td>-118.3459</td>\n",
       "      <td>1</td>\n",
       "    </tr>\n",
       "    <tr>\n",
       "      <th>2887</th>\n",
       "      <td>2018-02-26</td>\n",
       "      <td>34.0382</td>\n",
       "      <td>-118.2665</td>\n",
       "      <td>2</td>\n",
       "    </tr>\n",
       "    <tr>\n",
       "      <th>201409</th>\n",
       "      <td>2018-04-25</td>\n",
       "      <td>34.0654</td>\n",
       "      <td>-118.3016</td>\n",
       "      <td>4</td>\n",
       "    </tr>\n",
       "    <tr>\n",
       "      <th>224516</th>\n",
       "      <td>2018-10-10</td>\n",
       "      <td>33.9783</td>\n",
       "      <td>-118.2838</td>\n",
       "      <td>10</td>\n",
       "    </tr>\n",
       "    <tr>\n",
       "      <th>50425</th>\n",
       "      <td>2018-09-13</td>\n",
       "      <td>33.8303</td>\n",
       "      <td>-118.3016</td>\n",
       "      <td>9</td>\n",
       "    </tr>\n",
       "    <tr>\n",
       "      <th>28317</th>\n",
       "      <td>2018-06-24</td>\n",
       "      <td>34.0274</td>\n",
       "      <td>-118.2867</td>\n",
       "      <td>6</td>\n",
       "    </tr>\n",
       "    <tr>\n",
       "      <th>176134</th>\n",
       "      <td>2018-11-30</td>\n",
       "      <td>34.2751</td>\n",
       "      <td>-118.5652</td>\n",
       "      <td>11</td>\n",
       "    </tr>\n",
       "  </tbody>\n",
       "</table>\n",
       "</div>"
      ],
      "text/plain": [
       "       Date Occurred  LocationLat  LocationLong  Month\n",
       "55892     2018-03-30      34.1016     -118.3267      3\n",
       "163052    2018-04-25      34.2497     -118.2804      4\n",
       "210720    2018-03-18      34.1938     -118.5797      3\n",
       "64412     2018-01-17      34.0478     -118.3459      1\n",
       "2887      2018-02-26      34.0382     -118.2665      2\n",
       "201409    2018-04-25      34.0654     -118.3016      4\n",
       "224516    2018-10-10      33.9783     -118.2838     10\n",
       "50425     2018-09-13      33.8303     -118.3016      9\n",
       "28317     2018-06-24      34.0274     -118.2867      6\n",
       "176134    2018-11-30      34.2751     -118.5652     11"
      ]
     },
     "execution_count": 39,
     "metadata": {},
     "output_type": "execute_result"
    }
   ],
   "source": [
    "Los_Angeles_df.sample(10)"
   ]
  },
  {
   "cell_type": "code",
   "execution_count": 40,
   "metadata": {},
   "outputs": [
    {
     "data": {
      "text/plain": [
       "Index(['Date Occurred', 'LocationLat', 'LocationLong', 'Month'], dtype='object')"
      ]
     },
     "execution_count": 40,
     "metadata": {},
     "output_type": "execute_result"
    }
   ],
   "source": [
    "Los_Angeles_df.columns"
   ]
  },
  {
   "cell_type": "code",
   "execution_count": 41,
   "metadata": {},
   "outputs": [],
   "source": [
    "# Store latitude and longitude in locations\n",
    "locations = LA_clean[[\"LocationLat\", \"LocationLong\"]]\n"
   ]
  },
  {
   "cell_type": "code",
   "execution_count": 43,
   "metadata": {},
   "outputs": [
    {
     "data": {
      "application/vnd.jupyter.widget-view+json": {
       "model_id": "b976f5dd1c7b4f1294268b1a70283f71",
       "version_major": 2,
       "version_minor": 0
      },
      "text/plain": [
       "Figure(layout=FigureLayout(height='420px'))"
      ]
     },
     "metadata": {},
     "output_type": "display_data"
    }
   ],
   "source": [
    "# Plot Heatmap\n",
    "fig = gmaps.figure()\n",
    "\n",
    "# Create heat layer\n",
    "heat_layer = gmaps.heatmap_layer(locations, dissipating=True, max_intensity=10, point_radius=10)\n",
    "\n",
    "\n",
    "# Add layer\n",
    "fig.add_layer(heat_layer)\n",
    "\n",
    "# Display figure\n",
    "fig"
   ]
  },
  {
   "cell_type": "code",
   "execution_count": null,
   "metadata": {},
   "outputs": [],
   "source": []
  }
 ],
 "metadata": {
  "kernelspec": {
   "display_name": "Python 3",
   "language": "python",
   "name": "python3"
  },
  "language_info": {
   "codemirror_mode": {
    "name": "ipython",
    "version": 3
   },
   "file_extension": ".py",
   "mimetype": "text/x-python",
   "name": "python",
   "nbconvert_exporter": "python",
   "pygments_lexer": "ipython3",
   "version": "3.6.7"
  }
 },
 "nbformat": 4,
 "nbformat_minor": 2
}
