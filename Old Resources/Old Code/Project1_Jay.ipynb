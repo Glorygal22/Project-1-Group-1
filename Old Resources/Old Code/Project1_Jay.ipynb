{
 "cells": [
  {
   "cell_type": "code",
   "execution_count": 78,
   "metadata": {},
   "outputs": [],
   "source": [
    "# Import our dependencies\n",
    "import matplotlib.pyplot as plt\n",
    "import numpy as np\n",
    "import pandas as pd\n",
    "import gmaps\n",
    "import scipy.stats as stats\n",
    "\n",
    "# Google developer API key\n",
    "from configJJ import gkey\n",
    "\n",
    "# Configure gmaps\n",
    "gmaps.configure(api_key=gkey)"
   ]
  },
  {
   "cell_type": "code",
   "execution_count": 79,
   "metadata": {},
   "outputs": [],
   "source": [
    "# Take in all of our data and read it into pandas\n",
    "crimedata_newyork = \"Crime_Data/New_York_Crime_Data.csv\"\n",
    "\n",
    "crimedata_newyork_df = pd.read_csv(crimedata_newyork)"
   ]
  },
  {
   "cell_type": "code",
   "execution_count": 80,
   "metadata": {},
   "outputs": [
    {
     "data": {
      "text/html": [
       "<div>\n",
       "<style scoped>\n",
       "    .dataframe tbody tr th:only-of-type {\n",
       "        vertical-align: middle;\n",
       "    }\n",
       "\n",
       "    .dataframe tbody tr th {\n",
       "        vertical-align: top;\n",
       "    }\n",
       "\n",
       "    .dataframe thead th {\n",
       "        text-align: right;\n",
       "    }\n",
       "</style>\n",
       "<table border=\"1\" class=\"dataframe\">\n",
       "  <thead>\n",
       "    <tr style=\"text-align: right;\">\n",
       "      <th></th>\n",
       "      <th>Date</th>\n",
       "      <th>Latitude</th>\n",
       "      <th>Longitude</th>\n",
       "      <th>Unnamed: 3</th>\n",
       "    </tr>\n",
       "  </thead>\n",
       "  <tbody>\n",
       "    <tr>\n",
       "      <th>0</th>\n",
       "      <td>12/31/2018</td>\n",
       "      <td>40.756044</td>\n",
       "      <td>-73.986950</td>\n",
       "      <td>NaN</td>\n",
       "    </tr>\n",
       "    <tr>\n",
       "      <th>1</th>\n",
       "      <td>12/31/2018</td>\n",
       "      <td>40.675146</td>\n",
       "      <td>-73.918003</td>\n",
       "      <td>NaN</td>\n",
       "    </tr>\n",
       "    <tr>\n",
       "      <th>2</th>\n",
       "      <td>12/31/2018</td>\n",
       "      <td>40.633016</td>\n",
       "      <td>-73.944756</td>\n",
       "      <td>NaN</td>\n",
       "    </tr>\n",
       "    <tr>\n",
       "      <th>3</th>\n",
       "      <td>12/31/2018</td>\n",
       "      <td>40.721512</td>\n",
       "      <td>-73.993096</td>\n",
       "      <td>NaN</td>\n",
       "    </tr>\n",
       "    <tr>\n",
       "      <th>4</th>\n",
       "      <td>12/31/2018</td>\n",
       "      <td>40.852908</td>\n",
       "      <td>-73.909340</td>\n",
       "      <td>NaN</td>\n",
       "    </tr>\n",
       "  </tbody>\n",
       "</table>\n",
       "</div>"
      ],
      "text/plain": [
       "         Date   Latitude  Longitude  Unnamed: 3\n",
       "0  12/31/2018  40.756044 -73.986950         NaN\n",
       "1  12/31/2018  40.675146 -73.918003         NaN\n",
       "2  12/31/2018  40.633016 -73.944756         NaN\n",
       "3  12/31/2018  40.721512 -73.993096         NaN\n",
       "4  12/31/2018  40.852908 -73.909340         NaN"
      ]
     },
     "execution_count": 80,
     "metadata": {},
     "output_type": "execute_result"
    }
   ],
   "source": [
    "crimedata_newyork_df.head()"
   ]
  },
  {
   "cell_type": "markdown",
   "metadata": {},
   "source": [
    "crimedata_newyork_df[\"City\"] = \"New York\"\n",
    "crimedata_newyork_df.drop[]"
   ]
  },
  {
   "cell_type": "code",
   "execution_count": 81,
   "metadata": {},
   "outputs": [],
   "source": [
    "del crimedata_newyork_df[\"Unnamed: 3\"]"
   ]
  },
  {
   "cell_type": "code",
   "execution_count": 82,
   "metadata": {},
   "outputs": [],
   "source": [
    "crimedata_newyork_df[\"City\"] = \"New York\"\n"
   ]
  },
  {
   "cell_type": "code",
   "execution_count": 83,
   "metadata": {},
   "outputs": [
    {
     "data": {
      "text/html": [
       "<div>\n",
       "<style scoped>\n",
       "    .dataframe tbody tr th:only-of-type {\n",
       "        vertical-align: middle;\n",
       "    }\n",
       "\n",
       "    .dataframe tbody tr th {\n",
       "        vertical-align: top;\n",
       "    }\n",
       "\n",
       "    .dataframe thead th {\n",
       "        text-align: right;\n",
       "    }\n",
       "</style>\n",
       "<table border=\"1\" class=\"dataframe\">\n",
       "  <thead>\n",
       "    <tr style=\"text-align: right;\">\n",
       "      <th></th>\n",
       "      <th>Date</th>\n",
       "      <th>Latitude</th>\n",
       "      <th>Longitude</th>\n",
       "      <th>City</th>\n",
       "    </tr>\n",
       "  </thead>\n",
       "  <tbody>\n",
       "    <tr>\n",
       "      <th>0</th>\n",
       "      <td>12/31/2018</td>\n",
       "      <td>40.756044</td>\n",
       "      <td>-73.986950</td>\n",
       "      <td>New York</td>\n",
       "    </tr>\n",
       "    <tr>\n",
       "      <th>1</th>\n",
       "      <td>12/31/2018</td>\n",
       "      <td>40.675146</td>\n",
       "      <td>-73.918003</td>\n",
       "      <td>New York</td>\n",
       "    </tr>\n",
       "    <tr>\n",
       "      <th>2</th>\n",
       "      <td>12/31/2018</td>\n",
       "      <td>40.633016</td>\n",
       "      <td>-73.944756</td>\n",
       "      <td>New York</td>\n",
       "    </tr>\n",
       "    <tr>\n",
       "      <th>3</th>\n",
       "      <td>12/31/2018</td>\n",
       "      <td>40.721512</td>\n",
       "      <td>-73.993096</td>\n",
       "      <td>New York</td>\n",
       "    </tr>\n",
       "    <tr>\n",
       "      <th>4</th>\n",
       "      <td>12/31/2018</td>\n",
       "      <td>40.852908</td>\n",
       "      <td>-73.909340</td>\n",
       "      <td>New York</td>\n",
       "    </tr>\n",
       "  </tbody>\n",
       "</table>\n",
       "</div>"
      ],
      "text/plain": [
       "         Date   Latitude  Longitude      City\n",
       "0  12/31/2018  40.756044 -73.986950  New York\n",
       "1  12/31/2018  40.675146 -73.918003  New York\n",
       "2  12/31/2018  40.633016 -73.944756  New York\n",
       "3  12/31/2018  40.721512 -73.993096  New York\n",
       "4  12/31/2018  40.852908 -73.909340  New York"
      ]
     },
     "execution_count": 83,
     "metadata": {},
     "output_type": "execute_result"
    }
   ],
   "source": [
    "crimedata_newyork_df.dropna().head()"
   ]
  },
  {
   "cell_type": "code",
   "execution_count": 84,
   "metadata": {},
   "outputs": [],
   "source": [
    "crimedata_newyork_df[\"Date\"] = crimedata_newyork_df[\"Date\"].astype(\"datetime64\")"
   ]
  },
  {
   "cell_type": "code",
   "execution_count": 85,
   "metadata": {},
   "outputs": [
    {
     "data": {
      "text/html": [
       "<div>\n",
       "<style scoped>\n",
       "    .dataframe tbody tr th:only-of-type {\n",
       "        vertical-align: middle;\n",
       "    }\n",
       "\n",
       "    .dataframe tbody tr th {\n",
       "        vertical-align: top;\n",
       "    }\n",
       "\n",
       "    .dataframe thead th {\n",
       "        text-align: right;\n",
       "    }\n",
       "</style>\n",
       "<table border=\"1\" class=\"dataframe\">\n",
       "  <thead>\n",
       "    <tr style=\"text-align: right;\">\n",
       "      <th></th>\n",
       "      <th>Date</th>\n",
       "      <th>Latitude</th>\n",
       "      <th>Longitude</th>\n",
       "      <th>City</th>\n",
       "    </tr>\n",
       "  </thead>\n",
       "  <tbody>\n",
       "    <tr>\n",
       "      <th>464060</th>\n",
       "      <td>1912-11-26</td>\n",
       "      <td>40.693342</td>\n",
       "      <td>-73.947352</td>\n",
       "      <td>New York</td>\n",
       "    </tr>\n",
       "    <tr>\n",
       "      <th>464059</th>\n",
       "      <td>1918-07-20</td>\n",
       "      <td>40.702700</td>\n",
       "      <td>-73.990693</td>\n",
       "      <td>New York</td>\n",
       "    </tr>\n",
       "    <tr>\n",
       "      <th>464058</th>\n",
       "      <td>1918-08-08</td>\n",
       "      <td>40.853376</td>\n",
       "      <td>-73.904264</td>\n",
       "      <td>New York</td>\n",
       "    </tr>\n",
       "    <tr>\n",
       "      <th>464057</th>\n",
       "      <td>1918-08-18</td>\n",
       "      <td>40.880842</td>\n",
       "      <td>-73.833295</td>\n",
       "      <td>New York</td>\n",
       "    </tr>\n",
       "    <tr>\n",
       "      <th>464056</th>\n",
       "      <td>1918-11-04</td>\n",
       "      <td>40.899670</td>\n",
       "      <td>-73.847196</td>\n",
       "      <td>New York</td>\n",
       "    </tr>\n",
       "  </tbody>\n",
       "</table>\n",
       "</div>"
      ],
      "text/plain": [
       "             Date   Latitude  Longitude      City\n",
       "464060 1912-11-26  40.693342 -73.947352  New York\n",
       "464059 1918-07-20  40.702700 -73.990693  New York\n",
       "464058 1918-08-08  40.853376 -73.904264  New York\n",
       "464057 1918-08-18  40.880842 -73.833295  New York\n",
       "464056 1918-11-04  40.899670 -73.847196  New York"
      ]
     },
     "execution_count": 85,
     "metadata": {},
     "output_type": "execute_result"
    }
   ],
   "source": [
    "crimedata_newyork_df_sorted = crimedata_newyork_df.sort_values(by=[\"Date\"])\n",
    "crimedata_newyork_df_sorted.head()"
   ]
  },
  {
   "cell_type": "code",
   "execution_count": 86,
   "metadata": {},
   "outputs": [
    {
     "data": {
      "text/html": [
       "<div>\n",
       "<style scoped>\n",
       "    .dataframe tbody tr th:only-of-type {\n",
       "        vertical-align: middle;\n",
       "    }\n",
       "\n",
       "    .dataframe tbody tr th {\n",
       "        vertical-align: top;\n",
       "    }\n",
       "\n",
       "    .dataframe thead th {\n",
       "        text-align: right;\n",
       "    }\n",
       "</style>\n",
       "<table border=\"1\" class=\"dataframe\">\n",
       "  <thead>\n",
       "    <tr style=\"text-align: right;\">\n",
       "      <th></th>\n",
       "      <th>Date</th>\n",
       "      <th>Latitude</th>\n",
       "      <th>Longitude</th>\n",
       "      <th>City</th>\n",
       "    </tr>\n",
       "  </thead>\n",
       "  <tbody>\n",
       "    <tr>\n",
       "      <th>451689</th>\n",
       "      <td>2018-01-01</td>\n",
       "      <td>40.801521</td>\n",
       "      <td>-73.914918</td>\n",
       "      <td>New York</td>\n",
       "    </tr>\n",
       "    <tr>\n",
       "      <th>451690</th>\n",
       "      <td>2018-01-01</td>\n",
       "      <td>40.711245</td>\n",
       "      <td>-73.957770</td>\n",
       "      <td>New York</td>\n",
       "    </tr>\n",
       "    <tr>\n",
       "      <th>451691</th>\n",
       "      <td>2018-01-01</td>\n",
       "      <td>40.594150</td>\n",
       "      <td>-73.958604</td>\n",
       "      <td>New York</td>\n",
       "    </tr>\n",
       "    <tr>\n",
       "      <th>451696</th>\n",
       "      <td>2018-01-01</td>\n",
       "      <td>40.670655</td>\n",
       "      <td>-73.913391</td>\n",
       "      <td>New York</td>\n",
       "    </tr>\n",
       "    <tr>\n",
       "      <th>451688</th>\n",
       "      <td>2018-01-01</td>\n",
       "      <td>40.732152</td>\n",
       "      <td>-73.744029</td>\n",
       "      <td>New York</td>\n",
       "    </tr>\n",
       "  </tbody>\n",
       "</table>\n",
       "</div>"
      ],
      "text/plain": [
       "             Date   Latitude  Longitude      City\n",
       "451689 2018-01-01  40.801521 -73.914918  New York\n",
       "451690 2018-01-01  40.711245 -73.957770  New York\n",
       "451691 2018-01-01  40.594150 -73.958604  New York\n",
       "451696 2018-01-01  40.670655 -73.913391  New York\n",
       "451688 2018-01-01  40.732152 -73.744029  New York"
      ]
     },
     "execution_count": 86,
     "metadata": {},
     "output_type": "execute_result"
    }
   ],
   "source": [
    "newyork_2018_1 = crimedata_newyork_df_sorted.loc[crimedata_newyork_df_sorted[\"Date\"] >= \"2018-01-01\", :]\n",
    "newyork_2018_1.head()"
   ]
  },
  {
   "cell_type": "code",
   "execution_count": 87,
   "metadata": {},
   "outputs": [
    {
     "data": {
      "text/html": [
       "<div>\n",
       "<style scoped>\n",
       "    .dataframe tbody tr th:only-of-type {\n",
       "        vertical-align: middle;\n",
       "    }\n",
       "\n",
       "    .dataframe tbody tr th {\n",
       "        vertical-align: top;\n",
       "    }\n",
       "\n",
       "    .dataframe thead th {\n",
       "        text-align: right;\n",
       "    }\n",
       "</style>\n",
       "<table border=\"1\" class=\"dataframe\">\n",
       "  <thead>\n",
       "    <tr style=\"text-align: right;\">\n",
       "      <th></th>\n",
       "      <th>Date</th>\n",
       "      <th>Latitude</th>\n",
       "      <th>Longitude</th>\n",
       "      <th>City</th>\n",
       "    </tr>\n",
       "  </thead>\n",
       "  <tbody>\n",
       "    <tr>\n",
       "      <th>451689</th>\n",
       "      <td>2018-01-01</td>\n",
       "      <td>40.801521</td>\n",
       "      <td>-73.914918</td>\n",
       "      <td>New York</td>\n",
       "    </tr>\n",
       "    <tr>\n",
       "      <th>451690</th>\n",
       "      <td>2018-01-01</td>\n",
       "      <td>40.711245</td>\n",
       "      <td>-73.957770</td>\n",
       "      <td>New York</td>\n",
       "    </tr>\n",
       "    <tr>\n",
       "      <th>451691</th>\n",
       "      <td>2018-01-01</td>\n",
       "      <td>40.594150</td>\n",
       "      <td>-73.958604</td>\n",
       "      <td>New York</td>\n",
       "    </tr>\n",
       "    <tr>\n",
       "      <th>451696</th>\n",
       "      <td>2018-01-01</td>\n",
       "      <td>40.670655</td>\n",
       "      <td>-73.913391</td>\n",
       "      <td>New York</td>\n",
       "    </tr>\n",
       "    <tr>\n",
       "      <th>451688</th>\n",
       "      <td>2018-01-01</td>\n",
       "      <td>40.732152</td>\n",
       "      <td>-73.744029</td>\n",
       "      <td>New York</td>\n",
       "    </tr>\n",
       "  </tbody>\n",
       "</table>\n",
       "</div>"
      ],
      "text/plain": [
       "             Date   Latitude  Longitude      City\n",
       "451689 2018-01-01  40.801521 -73.914918  New York\n",
       "451690 2018-01-01  40.711245 -73.957770  New York\n",
       "451691 2018-01-01  40.594150 -73.958604  New York\n",
       "451696 2018-01-01  40.670655 -73.913391  New York\n",
       "451688 2018-01-01  40.732152 -73.744029  New York"
      ]
     },
     "execution_count": 87,
     "metadata": {},
     "output_type": "execute_result"
    }
   ],
   "source": [
    "newyork_2018 = newyork_2018_1.loc[newyork_2018_1[\"Date\"] <= \"2018-12-31\", :]\n",
    "newyork_2018.head()"
   ]
  },
  {
   "cell_type": "code",
   "execution_count": null,
   "metadata": {},
   "outputs": [],
   "source": []
  },
  {
   "cell_type": "code",
   "execution_count": 88,
   "metadata": {},
   "outputs": [
    {
     "data": {
      "text/plain": [
       "452997"
      ]
     },
     "execution_count": 88,
     "metadata": {},
     "output_type": "execute_result"
    }
   ],
   "source": [
    "len(newyork_2018)"
   ]
  },
  {
   "cell_type": "code",
   "execution_count": 89,
   "metadata": {},
   "outputs": [],
   "source": [
    "newyork_2018_w = len(newyork_2018.loc[((newyork_2018[\"Date\"] >= \"2018-01-01\") &\n",
    "                               (newyork_2018[\"Date\"] <= \"2018-03-20\")) |\n",
    "                               (newyork_2018[\"Date\"] >= \"2018-12-21\")])\n",
    "\n",
    "newyork_2018_s = len(newyork_2018.loc[((newyork_2018[\"Date\"] >= \"2018-03-21\") &\n",
    "                               (newyork_2018[\"Date\"] <= \"2018-06-20\"))])\n",
    "                    \n",
    "newyork_2018_ss = len(newyork_2018.loc[((newyork_2018[\"Date\"] >= \"2018-06-20\") &\n",
    "                               (newyork_2018[\"Date\"] <= \"2018-09-21\"))])\n",
    "\n",
    "newyork_2018_f = len(newyork_2018.loc[((newyork_2018[\"Date\"] >= \"2018-09-22\") &\n",
    "                               (newyork_2018[\"Date\"] <= \"2018-12-20\"))])"
   ]
  },
  {
   "cell_type": "code",
   "execution_count": 90,
   "metadata": {},
   "outputs": [
    {
     "name": "stdout",
     "output_type": "stream",
     "text": [
      "Winter: 105637\n",
      "Spring: 118026\n",
      "Summer: 123935\n",
      "Fall: 106857\n"
     ]
    }
   ],
   "source": [
    "print(f\"Winter: {newyork_2018_w}\")\n",
    "print(f\"Spring: {newyork_2018_s}\")\n",
    "print(f\"Summer: {newyork_2018_ss}\")\n",
    "print(f\"Fall: {newyork_2018_f}\")"
   ]
  },
  {
   "cell_type": "code",
   "execution_count": 91,
   "metadata": {},
   "outputs": [],
   "source": [
    "seasons = [\"Winter\", \"Spring\", \"Summer\", \"Fall\"]\n",
    "crime = [newyork_2018_w, newyork_2018_s, newyork_2018_ss, newyork_2018_f]\n",
    "colors = [\"lightgreen\", \"red\", \"yellow\", \"lightskyblue\"]\n",
    "explode = (0, 0, 0.05, 0)"
   ]
  },
  {
   "cell_type": "code",
   "execution_count": 92,
   "metadata": {},
   "outputs": [
    {
     "data": {
      "image/png": "[encoded data removed]",
      "text/plain": [
       "<Figure size 432x288 with 1 Axes>"
      ]
     },
     "metadata": {},
     "output_type": "display_data"
    }
   ],
   "source": [
    "plt.title(\"% of Crime by Season in New York\")\n",
    "plt.pie(crime, explode=explode, labels=seasons, colors=colors,\n",
    "        autopct=\"%1.1f%%\", shadow=True, startangle=270)\n",
    "plt.axis(\"auto\")\n",
    "plt.show()"
   ]
  },
  {
   "cell_type": "code",
   "execution_count": null,
   "metadata": {},
   "outputs": [],
   "source": []
  },
  {
   "cell_type": "code",
   "execution_count": 93,
   "metadata": {},
   "outputs": [
    {
     "data": {
      "text/html": [
       "<div>\n",
       "<style scoped>\n",
       "    .dataframe tbody tr th:only-of-type {\n",
       "        vertical-align: middle;\n",
       "    }\n",
       "\n",
       "    .dataframe tbody tr th {\n",
       "        vertical-align: top;\n",
       "    }\n",
       "\n",
       "    .dataframe thead th {\n",
       "        text-align: right;\n",
       "    }\n",
       "</style>\n",
       "<table border=\"1\" class=\"dataframe\">\n",
       "  <thead>\n",
       "    <tr style=\"text-align: right;\">\n",
       "      <th></th>\n",
       "      <th>City</th>\n",
       "      <th>Month</th>\n",
       "      <th>High_avg</th>\n",
       "      <th>Low_avg</th>\n",
       "    </tr>\n",
       "  </thead>\n",
       "  <tbody>\n",
       "    <tr>\n",
       "      <th>0</th>\n",
       "      <td>Chicago</td>\n",
       "      <td>January</td>\n",
       "      <td>32</td>\n",
       "      <td>21</td>\n",
       "    </tr>\n",
       "    <tr>\n",
       "      <th>1</th>\n",
       "      <td>Chicago</td>\n",
       "      <td>February</td>\n",
       "      <td>36</td>\n",
       "      <td>26</td>\n",
       "    </tr>\n",
       "    <tr>\n",
       "      <th>2</th>\n",
       "      <td>Chicago</td>\n",
       "      <td>March</td>\n",
       "      <td>45</td>\n",
       "      <td>34</td>\n",
       "    </tr>\n",
       "    <tr>\n",
       "      <th>3</th>\n",
       "      <td>Chicago</td>\n",
       "      <td>April</td>\n",
       "      <td>56</td>\n",
       "      <td>43</td>\n",
       "    </tr>\n",
       "    <tr>\n",
       "      <th>4</th>\n",
       "      <td>Chicago</td>\n",
       "      <td>May</td>\n",
       "      <td>66</td>\n",
       "      <td>53</td>\n",
       "    </tr>\n",
       "  </tbody>\n",
       "</table>\n",
       "</div>"
      ],
      "text/plain": [
       "      City     Month  High_avg  Low_avg\n",
       "0  Chicago   January        32       21\n",
       "1  Chicago  February        36       26\n",
       "2  Chicago     March        45       34\n",
       "3  Chicago     April        56       43\n",
       "4  Chicago       May        66       53"
      ]
     },
     "execution_count": 93,
     "metadata": {},
     "output_type": "execute_result"
    }
   ],
   "source": [
    "weather = pd.read_csv(\"Weather_Data/Weather.csv\")\n",
    "weather.head()"
   ]
  },
  {
   "cell_type": "code",
   "execution_count": 94,
   "metadata": {},
   "outputs": [
    {
     "data": {
      "text/html": [
       "<div>\n",
       "<style scoped>\n",
       "    .dataframe tbody tr th:only-of-type {\n",
       "        vertical-align: middle;\n",
       "    }\n",
       "\n",
       "    .dataframe tbody tr th {\n",
       "        vertical-align: top;\n",
       "    }\n",
       "\n",
       "    .dataframe thead th {\n",
       "        text-align: right;\n",
       "    }\n",
       "</style>\n",
       "<table border=\"1\" class=\"dataframe\">\n",
       "  <thead>\n",
       "    <tr style=\"text-align: right;\">\n",
       "      <th></th>\n",
       "      <th>City</th>\n",
       "      <th>Month</th>\n",
       "      <th>High_avg</th>\n",
       "      <th>Low_avg</th>\n",
       "    </tr>\n",
       "  </thead>\n",
       "  <tbody>\n",
       "    <tr>\n",
       "      <th>36</th>\n",
       "      <td>New York</td>\n",
       "      <td>January</td>\n",
       "      <td>39</td>\n",
       "      <td>27</td>\n",
       "    </tr>\n",
       "    <tr>\n",
       "      <th>37</th>\n",
       "      <td>New York</td>\n",
       "      <td>February</td>\n",
       "      <td>42</td>\n",
       "      <td>28</td>\n",
       "    </tr>\n",
       "    <tr>\n",
       "      <th>38</th>\n",
       "      <td>New York</td>\n",
       "      <td>March</td>\n",
       "      <td>50</td>\n",
       "      <td>35</td>\n",
       "    </tr>\n",
       "    <tr>\n",
       "      <th>39</th>\n",
       "      <td>New York</td>\n",
       "      <td>April</td>\n",
       "      <td>62</td>\n",
       "      <td>45</td>\n",
       "    </tr>\n",
       "    <tr>\n",
       "      <th>40</th>\n",
       "      <td>New York</td>\n",
       "      <td>May</td>\n",
       "      <td>72</td>\n",
       "      <td>54</td>\n",
       "    </tr>\n",
       "  </tbody>\n",
       "</table>\n",
       "</div>"
      ],
      "text/plain": [
       "        City     Month  High_avg  Low_avg\n",
       "36  New York   January        39       27\n",
       "37  New York  February        42       28\n",
       "38  New York     March        50       35\n",
       "39  New York     April        62       45\n",
       "40  New York       May        72       54"
      ]
     },
     "execution_count": 94,
     "metadata": {},
     "output_type": "execute_result"
    }
   ],
   "source": [
    "newyork_weather = weather.loc[weather[\"City\"] == \"New York\", :]\n",
    "newyork_weather.head()"
   ]
  },
  {
   "cell_type": "code",
   "execution_count": 95,
   "metadata": {},
   "outputs": [],
   "source": [
    "newyork_jan = len(newyork_2018.loc[((newyork_2018[\"Date\"] >= \"2018-01-01\") &\n",
    "                               (newyork_2018[\"Date\"] <= \"2018-01-31\"))])\n",
    "                    \n",
    "newyork_feb = len(newyork_2018.loc[((newyork_2018[\"Date\"] >= \"2018-02-01\") &\n",
    "                               (newyork_2018[\"Date\"] <= \"2018-02-28\"))])\n",
    "\n",
    "newyork_mar = len(newyork_2018.loc[((newyork_2018[\"Date\"] >= \"2018-03-01\") &\n",
    "                               (newyork_2018[\"Date\"] <= \"2018-03-31\"))])\n",
    "\n",
    "newyork_apr = len(newyork_2018.loc[((newyork_2018[\"Date\"] >= \"2018-04-01\") &\n",
    "                               (newyork_2018[\"Date\"] <= \"2018-04-30\"))])\n",
    "                    \n",
    "newyork_may = len(newyork_2018.loc[((newyork_2018[\"Date\"] >= \"2018-05-01\") &\n",
    "                               (newyork_2018[\"Date\"] <= \"2018-05-31\"))])\n",
    "\n",
    "newyork_jun = len(newyork_2018.loc[((newyork_2018[\"Date\"] >= \"2018-06-01\") &\n",
    "                               (newyork_2018[\"Date\"] <= \"2018-06-30\"))])\n",
    "\n",
    "newyork_jul = len(newyork_2018.loc[((newyork_2018[\"Date\"] >= \"2018-07-01\") &\n",
    "                               (newyork_2018[\"Date\"] <= \"2018-07-31\"))])\n",
    "                    \n",
    "newyork_aug = len(newyork_2018.loc[((newyork_2018[\"Date\"] >= \"2018-08-01\") &\n",
    "                               (newyork_2018[\"Date\"] <= \"2018-08-31\"))])\n",
    "\n",
    "newyork_sept = len(newyork_2018.loc[((newyork_2018[\"Date\"] >= \"2018-09-01\") &\n",
    "                               (newyork_2018[\"Date\"] <= \"2018-09-30\"))])\n",
    "\n",
    "newyork_oct = len(newyork_2018.loc[((newyork_2018[\"Date\"] >= \"2018-10-01\") &\n",
    "                               (newyork_2018[\"Date\"] <= \"2018-10-31\"))])\n",
    "                    \n",
    "newyork_nov = len(newyork_2018.loc[((newyork_2018[\"Date\"] >= \"2018-11-01\") &\n",
    "                               (newyork_2018[\"Date\"] <= \"2018-11-30\"))])\n",
    "\n",
    "newyork_dec = len(newyork_2018.loc[((newyork_2018[\"Date\"] >= \"2018-12-01\") &\n",
    "                               (newyork_2018[\"Date\"] <= \"2018-12-31\"))])"
   ]
  },
  {
   "cell_type": "code",
   "execution_count": 96,
   "metadata": {},
   "outputs": [],
   "source": [
    "#Build bar and line chat\n",
    "#show crime by season and high and low temp by season\n",
    "#x-axis is for seasons\n",
    "Crimes = [newyork_jan, newyork_feb, newyork_mar, \n",
    "          newyork_apr, newyork_may, newyork_jun, \n",
    "          newyork_jul, newyork_aug, newyork_sept, \n",
    "          newyork_oct, newyork_nov, newyork_dec]\n",
    "\n",
    "x_axis = [\"Jan\", \"Feb\", \"Mar\", \n",
    "          \"Apr\", \"May\", \"Jun\", \n",
    "          \"Jul\", \"Aug\", \"Sept\", \n",
    "          \"Oct\", \"Nov\", \"Dec\"]"
   ]
  },
  {
   "cell_type": "code",
   "execution_count": 97,
   "metadata": {},
   "outputs": [
    {
     "data": {
      "text/html": [
       "<div>\n",
       "<style scoped>\n",
       "    .dataframe tbody tr th:only-of-type {\n",
       "        vertical-align: middle;\n",
       "    }\n",
       "\n",
       "    .dataframe tbody tr th {\n",
       "        vertical-align: top;\n",
       "    }\n",
       "\n",
       "    .dataframe thead th {\n",
       "        text-align: right;\n",
       "    }\n",
       "</style>\n",
       "<table border=\"1\" class=\"dataframe\">\n",
       "  <thead>\n",
       "    <tr style=\"text-align: right;\">\n",
       "      <th></th>\n",
       "      <th>Number of Crimes</th>\n",
       "      <th>Highs</th>\n",
       "      <th>Lows</th>\n",
       "    </tr>\n",
       "  </thead>\n",
       "  <tbody>\n",
       "    <tr>\n",
       "      <th>36</th>\n",
       "      <td>37161</td>\n",
       "      <td>39</td>\n",
       "      <td>27</td>\n",
       "    </tr>\n",
       "    <tr>\n",
       "      <th>37</th>\n",
       "      <td>34327</td>\n",
       "      <td>42</td>\n",
       "      <td>28</td>\n",
       "    </tr>\n",
       "    <tr>\n",
       "      <th>38</th>\n",
       "      <td>37127</td>\n",
       "      <td>50</td>\n",
       "      <td>35</td>\n",
       "    </tr>\n",
       "    <tr>\n",
       "      <th>39</th>\n",
       "      <td>37206</td>\n",
       "      <td>62</td>\n",
       "      <td>45</td>\n",
       "    </tr>\n",
       "    <tr>\n",
       "      <th>40</th>\n",
       "      <td>40856</td>\n",
       "      <td>72</td>\n",
       "      <td>54</td>\n",
       "    </tr>\n",
       "  </tbody>\n",
       "</table>\n",
       "</div>"
      ],
      "text/plain": [
       "    Number of Crimes  Highs  Lows\n",
       "36             37161     39    27\n",
       "37             34327     42    28\n",
       "38             37127     50    35\n",
       "39             37206     62    45\n",
       "40             40856     72    54"
      ]
     },
     "execution_count": 97,
     "metadata": {},
     "output_type": "execute_result"
    }
   ],
   "source": [
    "m1_t = pd.DataFrame({\n",
    " 'Number of Crimes' : [newyork_jan, newyork_feb, newyork_mar, \n",
    "          newyork_apr, newyork_may, newyork_jun, \n",
    "          newyork_jul, newyork_aug, newyork_sept, \n",
    "          newyork_oct, newyork_nov, newyork_dec],\n",
    " 'Highs' : newyork_weather[\"High_avg\"],\n",
    " 'Lows' : newyork_weather[\"Low_avg\"]})\n",
    "\n",
    "m1_t.head()"
   ]
  },
  {
   "cell_type": "code",
   "execution_count": 98,
   "metadata": {},
   "outputs": [
    {
     "data": {
      "image/png": "[encoded data removed]",
      "text/plain": [
       "<Figure size 720x360 with 2 Axes>"
      ]
     },
     "metadata": {
      "needs_background": "light"
     },
     "output_type": "display_data"
    }
   ],
   "source": [
    "fig = plt.figure(figsize= (10, 5))\n",
    "ax = m1_t['Number of Crimes'].plot(kind='bar', use_index=True, colormap=\"plasma\")\n",
    "\n",
    "plt.ylabel(\"Number of Crimes\")\n",
    "plt.xlabel(\"Months\")\n",
    "plt.title(\"New York Crime and Weather Data\")\n",
    "\n",
    "ax2 = ax.twinx()\n",
    "ax2.plot(ax.get_xticks(),\n",
    "         m1_t[['Highs','Lows']].values,\n",
    "         linestyle='-',\n",
    "         marker='o', linewidth=2.0)\n",
    "ax.set_xticklabels(tuple(x_axis))\n",
    "plt.legend((\"Avg. High Temps\", \"Avg. Low Temps\"), loc=\"upper left\")\n",
    "plt.ylabel(\"Temperature (Degrees F)\")\n",
    "plt.show()"
   ]
  },
  {
   "cell_type": "code",
   "execution_count": null,
   "metadata": {},
   "outputs": [],
   "source": []
  },
  {
   "cell_type": "code",
   "execution_count": 99,
   "metadata": {},
   "outputs": [],
   "source": [
    "# Observed data in a (hypothetical) survey of 300 people \n",
    "observed = pd.Series([105636,118026,123935,106857], index=[\"Winter\", \"Spring\", \"Summer\", \"Fall\"])"
   ]
  },
  {
   "cell_type": "code",
   "execution_count": 100,
   "metadata": {},
   "outputs": [],
   "source": [
    "# Create a data frame\n",
    "df = pd.DataFrame([observed]).T"
   ]
  },
  {
   "cell_type": "code",
   "execution_count": 101,
   "metadata": {},
   "outputs": [],
   "source": [
    "# Add a column whose default values are the expected values\n",
    "df[1] = 113613.5"
   ]
  },
  {
   "cell_type": "code",
   "execution_count": 102,
   "metadata": {},
   "outputs": [],
   "source": [
    "# Rename columns\n",
    "df.columns = [\"Observed\", \"Expected\"]"
   ]
  },
  {
   "cell_type": "code",
   "execution_count": 103,
   "metadata": {},
   "outputs": [
    {
     "data": {
      "text/html": [
       "<div>\n",
       "<style scoped>\n",
       "    .dataframe tbody tr th:only-of-type {\n",
       "        vertical-align: middle;\n",
       "    }\n",
       "\n",
       "    .dataframe tbody tr th {\n",
       "        vertical-align: top;\n",
       "    }\n",
       "\n",
       "    .dataframe thead th {\n",
       "        text-align: right;\n",
       "    }\n",
       "</style>\n",
       "<table border=\"1\" class=\"dataframe\">\n",
       "  <thead>\n",
       "    <tr style=\"text-align: right;\">\n",
       "      <th></th>\n",
       "      <th>Observed</th>\n",
       "      <th>Expected</th>\n",
       "    </tr>\n",
       "  </thead>\n",
       "  <tbody>\n",
       "    <tr>\n",
       "      <th>Winter</th>\n",
       "      <td>105636</td>\n",
       "      <td>113613.5</td>\n",
       "    </tr>\n",
       "    <tr>\n",
       "      <th>Spring</th>\n",
       "      <td>118026</td>\n",
       "      <td>113613.5</td>\n",
       "    </tr>\n",
       "    <tr>\n",
       "      <th>Summer</th>\n",
       "      <td>123935</td>\n",
       "      <td>113613.5</td>\n",
       "    </tr>\n",
       "    <tr>\n",
       "      <th>Fall</th>\n",
       "      <td>106857</td>\n",
       "      <td>113613.5</td>\n",
       "    </tr>\n",
       "  </tbody>\n",
       "</table>\n",
       "</div>"
      ],
      "text/plain": [
       "        Observed  Expected\n",
       "Winter    105636  113613.5\n",
       "Spring    118026  113613.5\n",
       "Summer    123935  113613.5\n",
       "Fall      106857  113613.5"
      ]
     },
     "execution_count": 103,
     "metadata": {},
     "output_type": "execute_result"
    }
   ],
   "source": [
    "# View the data frame\n",
    "df"
   ]
  },
  {
   "cell_type": "code",
   "execution_count": 104,
   "metadata": {},
   "outputs": [],
   "source": [
    "# The degree of freedom is 4-1 = 3\n",
    "# With a p-value of 0.05, the confidence level is 1.00-0.05 = 0.95.\n",
    "critical_value = stats.chi2.ppf(q = 0.95, df = 3)"
   ]
  },
  {
   "cell_type": "code",
   "execution_count": 105,
   "metadata": {},
   "outputs": [
    {
     "data": {
      "text/plain": [
       "7.814727903251179"
      ]
     },
     "execution_count": 105,
     "metadata": {},
     "output_type": "execute_result"
    }
   ],
   "source": [
    "# The critical value\n",
    "critical_value"
   ]
  },
  {
   "cell_type": "code",
   "execution_count": 106,
   "metadata": {},
   "outputs": [
    {
     "data": {
      "text/plain": [
       "Power_divergenceResult(statistic=2071.00667614324, pvalue=0.0)"
      ]
     },
     "execution_count": 106,
     "metadata": {},
     "output_type": "execute_result"
    }
   ],
   "source": [
    "# Run the chi square test with stats.chisquare()\n",
    "stats.chisquare(df['Observed'], df['Expected'])"
   ]
  },
  {
   "cell_type": "code",
   "execution_count": null,
   "metadata": {},
   "outputs": [],
   "source": []
  },
  {
   "cell_type": "code",
   "execution_count": 107,
   "metadata": {},
   "outputs": [],
   "source": [
    "newyork_2018[\"Month\"] = newyork_2018[\"Date\"].dt.month"
   ]
  },
  {
   "cell_type": "code",
   "execution_count": 108,
   "metadata": {},
   "outputs": [
    {
     "data": {
      "text/plain": [
       "Date          0\n",
       "Latitude     39\n",
       "Longitude    39\n",
       "City          0\n",
       "Month         0\n",
       "dtype: int64"
      ]
     },
     "execution_count": 108,
     "metadata": {},
     "output_type": "execute_result"
    }
   ],
   "source": [
    "newyork_2018.isna().sum()"
   ]
  },
  {
   "cell_type": "code",
   "execution_count": 109,
   "metadata": {},
   "outputs": [
    {
     "data": {
      "text/html": [
       "<div>\n",
       "<style scoped>\n",
       "    .dataframe tbody tr th:only-of-type {\n",
       "        vertical-align: middle;\n",
       "    }\n",
       "\n",
       "    .dataframe tbody tr th {\n",
       "        vertical-align: top;\n",
       "    }\n",
       "\n",
       "    .dataframe thead th {\n",
       "        text-align: right;\n",
       "    }\n",
       "</style>\n",
       "<table border=\"1\" class=\"dataframe\">\n",
       "  <thead>\n",
       "    <tr style=\"text-align: right;\">\n",
       "      <th></th>\n",
       "      <th>Date</th>\n",
       "      <th>Latitude</th>\n",
       "      <th>Longitude</th>\n",
       "      <th>City</th>\n",
       "      <th>Month</th>\n",
       "    </tr>\n",
       "  </thead>\n",
       "  <tbody>\n",
       "    <tr>\n",
       "      <th>451689</th>\n",
       "      <td>2018-01-01</td>\n",
       "      <td>40.801521</td>\n",
       "      <td>-73.914918</td>\n",
       "      <td>New York</td>\n",
       "      <td>1</td>\n",
       "    </tr>\n",
       "    <tr>\n",
       "      <th>451690</th>\n",
       "      <td>2018-01-01</td>\n",
       "      <td>40.711245</td>\n",
       "      <td>-73.957770</td>\n",
       "      <td>New York</td>\n",
       "      <td>1</td>\n",
       "    </tr>\n",
       "    <tr>\n",
       "      <th>451691</th>\n",
       "      <td>2018-01-01</td>\n",
       "      <td>40.594150</td>\n",
       "      <td>-73.958604</td>\n",
       "      <td>New York</td>\n",
       "      <td>1</td>\n",
       "    </tr>\n",
       "    <tr>\n",
       "      <th>451696</th>\n",
       "      <td>2018-01-01</td>\n",
       "      <td>40.670655</td>\n",
       "      <td>-73.913391</td>\n",
       "      <td>New York</td>\n",
       "      <td>1</td>\n",
       "    </tr>\n",
       "    <tr>\n",
       "      <th>451688</th>\n",
       "      <td>2018-01-01</td>\n",
       "      <td>40.732152</td>\n",
       "      <td>-73.744029</td>\n",
       "      <td>New York</td>\n",
       "      <td>1</td>\n",
       "    </tr>\n",
       "  </tbody>\n",
       "</table>\n",
       "</div>"
      ],
      "text/plain": [
       "             Date   Latitude  Longitude      City  Month\n",
       "451689 2018-01-01  40.801521 -73.914918  New York      1\n",
       "451690 2018-01-01  40.711245 -73.957770  New York      1\n",
       "451691 2018-01-01  40.594150 -73.958604  New York      1\n",
       "451696 2018-01-01  40.670655 -73.913391  New York      1\n",
       "451688 2018-01-01  40.732152 -73.744029  New York      1"
      ]
     },
     "execution_count": 109,
     "metadata": {},
     "output_type": "execute_result"
    }
   ],
   "source": [
    "newyork_clean = newyork_2018.dropna(how='any')\n",
    "newyork_clean.head()"
   ]
  },
  {
   "cell_type": "code",
   "execution_count": 110,
   "metadata": {},
   "outputs": [],
   "source": [
    "# Store latitude and longitude in locations\n",
    "locations = newyork_clean[[\"Latitude\", \"Longitude\"]]\n",
    "\n",
    "# Fill NaN values and convert to float\n",
    "rating = newyork_clean[\"Month\"].astype(float)"
   ]
  },
  {
   "cell_type": "code",
   "execution_count": 111,
   "metadata": {},
   "outputs": [
    {
     "data": {
      "application/vnd.jupyter.widget-view+json": {
       "model_id": "b1905673dd024ce0a28bf61c780e172c",
       "version_major": 2,
       "version_minor": 0
      },
      "text/plain": [
       "Figure(layout=FigureLayout(height='420px'))"
      ]
     },
     "metadata": {},
     "output_type": "display_data"
    }
   ],
   "source": [
    "# Plot Heatmap\n",
    "fig = gmaps.figure()\n",
    "\n",
    "# Create heat layer\n",
    "heat_layer = gmaps.heatmap_layer(locations, dissipating=True, max_intensity=10, point_radius=10)\n",
    "\n",
    "\n",
    "# Add layer\n",
    "fig.add_layer(heat_layer)\n",
    "\n",
    "# Display figure\n",
    "fig"
   ]
  },
  {
   "cell_type": "code",
   "execution_count": null,
   "metadata": {},
   "outputs": [],
   "source": []
  }
 ],
 "metadata": {
  "kernelspec": {
   "display_name": "Python 3",
   "language": "python",
   "name": "python3"
  },
  "language_info": {
   "codemirror_mode": {
    "name": "ipython",
    "version": 3
   },
   "file_extension": ".py",
   "mimetype": "text/x-python",
   "name": "python",
   "nbconvert_exporter": "python",
   "pygments_lexer": "ipython3",
   "version": "3.6.7"
  }
 },
 "nbformat": 4,
 "nbformat_minor": 2
}
